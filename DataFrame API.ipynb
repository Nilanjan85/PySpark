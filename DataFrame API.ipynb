{
 "cells": [
  {
   "cell_type": "code",
   "execution_count": 0,
   "metadata": {
    "application/vnd.databricks.v1+cell": {
     "cellMetadata": {
      "byteLimit": 2048000,
      "rowLimit": 10000
     },
     "inputWidgets": {},
     "nuid": "8599c166-6726-4f6d-a23f-4a18b41905ea",
     "showTitle": false,
     "title": ""
    }
   },
   "outputs": [
    {
     "output_type": "stream",
     "name": "stdout",
     "output_type": "stream",
     "text": [
      "Out[3]: [FileInfo(path='dbfs:/FileStore/tables/employees.csv', name='employees.csv', size=3778, modificationTime=1688316609000),\n FileInfo(path='dbfs:/FileStore/tables/hello.txt', name='hello.txt', size=22, modificationTime=1675083047000),\n FileInfo(path='dbfs:/FileStore/tables/test/', name='test/', size=0, modificationTime=0),\n FileInfo(path='dbfs:/FileStore/tables/test.csv', name='test.csv', size=71, modificationTime=1675082472000)]"
     ]
    }
   ],
   "source": [
    "dbutils.fs.ls(\"/FileStore/tables/\")"
   ]
  },
  {
   "cell_type": "code",
   "execution_count": 0,
   "metadata": {
    "application/vnd.databricks.v1+cell": {
     "cellMetadata": {
      "byteLimit": 2048000,
      "rowLimit": 10000
     },
     "inputWidgets": {},
     "nuid": "a020d50b-edef-4f22-89a9-2333df2e14f5",
     "showTitle": false,
     "title": ""
    }
   },
   "outputs": [],
   "source": [
    "df = spark.read.format('csv')\\\n",
    ".option('mode','FAILFAST')\\\n",
    ".option('header','true')\\\n",
    ".option('inferSchema','True')\\\n",
    ".load('/FileStore/tables/employees.csv')"
   ]
  },
  {
   "cell_type": "code",
   "execution_count": 0,
   "metadata": {
    "application/vnd.databricks.v1+cell": {
     "cellMetadata": {
      "byteLimit": 2048000,
      "rowLimit": 10000
     },
     "inputWidgets": {},
     "nuid": "a16cb023-e21f-417c-b36d-a3b8dfd4be9d",
     "showTitle": false,
     "title": ""
    }
   },
   "outputs": [
    {
     "output_type": "stream",
     "name": "stdout",
     "output_type": "stream",
     "text": [
      "+-----------+----------+---------+--------+------------+---------+----------+------+--------------+----------+-------------+\n|EMPLOYEE_ID|FIRST_NAME|LAST_NAME|   EMAIL|PHONE_NUMBER|HIRE_DATE|    JOB_ID|SALARY|COMMISSION_PCT|MANAGER_ID|DEPARTMENT_ID|\n+-----------+----------+---------+--------+------------+---------+----------+------+--------------+----------+-------------+\n|        198|    Donald| OConnell|DOCONNEL|650.507.9833|21-JUN-07|  SH_CLERK|  2600|            - |       124|           50|\n|        199|   Douglas|    Grant|  DGRANT|650.507.9844|13-JAN-08|  SH_CLERK|  2600|            - |       124|           50|\n|        200|  Jennifer|   Whalen| JWHALEN|515.123.4444|17-SEP-03|   AD_ASST|  4400|            - |       101|           10|\n|        201|   Michael|Hartstein|MHARTSTE|515.123.5555|17-FEB-04|    MK_MAN| 13000|            - |       100|           20|\n|        202|       Pat|      Fay|    PFAY|603.123.6666|17-AUG-05|    MK_REP|  6000|            - |       201|           20|\n|        203|     Susan|   Mavris| SMAVRIS|515.123.7777|07-JUN-02|    HR_REP|  6500|            - |       101|           40|\n|        204|   Hermann|     Baer|   HBAER|515.123.8888|07-JUN-02|    PR_REP| 10000|            - |       101|           70|\n|        205|   Shelley|  Higgins|SHIGGINS|515.123.8080|07-JUN-02|    AC_MGR| 12008|            - |       101|          110|\n|        206|   William|    Gietz|  WGIETZ|515.123.8181|07-JUN-02|AC_ACCOUNT|  8300|            - |       205|          110|\n|        100|    Steven|     King|   SKING|515.123.4567|17-JUN-03|   AD_PRES| 24000|            - |        - |           90|\n|        101|     Neena|  Kochhar|NKOCHHAR|515.123.4568|21-SEP-05|     AD_VP| 17000|            - |       100|           90|\n|        102|       Lex|  De Haan| LDEHAAN|515.123.4569|13-JAN-01|     AD_VP| 17000|            - |       100|           90|\n|        103| Alexander|   Hunold| AHUNOLD|590.423.4567|03-JAN-06|   IT_PROG|  9000|            - |       102|           60|\n|        104|     Bruce|    Ernst|  BERNST|590.423.4568|21-MAY-07|   IT_PROG|  6000|            - |       103|           60|\n|        105|     David|   Austin| DAUSTIN|590.423.4569|25-JUN-05|   IT_PROG|  4800|            - |       103|           60|\n|        106|     Valli|Pataballa|VPATABAL|590.423.4560|05-FEB-06|   IT_PROG|  4800|            - |       103|           60|\n|        107|     Diana|  Lorentz|DLORENTZ|590.423.5567|07-FEB-07|   IT_PROG|  4200|            - |       103|           60|\n|        108|     Nancy|Greenberg|NGREENBE|515.124.4569|17-AUG-02|    FI_MGR| 12008|            - |       101|          100|\n|        109|    Daniel|   Faviet| DFAVIET|515.124.4169|16-AUG-02|FI_ACCOUNT|  9000|            - |       108|          100|\n|        110|      John|     Chen|   JCHEN|515.124.4269|28-SEP-05|FI_ACCOUNT|  8200|            - |       108|          100|\n+-----------+----------+---------+--------+------------+---------+----------+------+--------------+----------+-------------+\nonly showing top 20 rows\n\n"
     ]
    }
   ],
   "source": [
    "#df.printSchema()\n",
    "df.show()"
   ]
  },
  {
   "cell_type": "code",
   "execution_count": 0,
   "metadata": {
    "application/vnd.databricks.v1+cell": {
     "cellMetadata": {
      "byteLimit": 2048000,
      "rowLimit": 10000
     },
     "inputWidgets": {},
     "nuid": "9ab66f65-2d9e-4c83-85c1-5f02dd1ec7a0",
     "showTitle": false,
     "title": ""
    }
   },
   "outputs": [
    {
     "output_type": "stream",
     "name": "stdout",
     "output_type": "stream",
     "text": [
      "Out[14]: ['EMPLOYEE_ID',\n 'FIRST_NAME',\n 'LAST_NAME',\n 'EMAIL',\n 'PHONE_NUMBER',\n 'HIRE_DATE',\n 'JOB_ID',\n 'SALARY',\n 'COMMISSION_PCT',\n 'MANAGER_ID',\n 'DEPARTMENT_ID']"
     ]
    }
   ],
   "source": [
    "df.columns"
   ]
  },
  {
   "cell_type": "code",
   "execution_count": 0,
   "metadata": {
    "application/vnd.databricks.v1+cell": {
     "cellMetadata": {
      "byteLimit": 2048000,
      "rowLimit": 10000
     },
     "inputWidgets": {},
     "nuid": "0ede1b11-7254-4130-8ceb-eb8eeff9877d",
     "showTitle": false,
     "title": ""
    }
   },
   "outputs": [],
   "source": [
    "from pyspark.sql.types import StructType , IntegerType ,StringType, DateType, FloatType, StructField\n",
    "from pyspark.sql.functions import col"
   ]
  },
  {
   "cell_type": "code",
   "execution_count": 0,
   "metadata": {
    "application/vnd.databricks.v1+cell": {
     "cellMetadata": {
      "byteLimit": 2048000,
      "rowLimit": 10000
     },
     "inputWidgets": {},
     "nuid": "6a67f515-4dd5-46b4-b41d-2f44aa0320b5",
     "showTitle": false,
     "title": ""
    }
   },
   "outputs": [],
   "source": [
    "#build schema \n",
    "\n",
    "my_schema = StructType(\n",
    "[\n",
    "    StructField(\"EMPLOYEE_ID\",IntegerType(),True),\n",
    "    StructField(\"FIRST_NAME\",StringType(),True),\n",
    "    StructField(\"LAST_NAME\",StringType(),True),\n",
    "    StructField(\"EMAIL\",StringType(),True),\n",
    "    StructField(\"PHONE_NUMBER\",IntegerType(),True),\n",
    "    StructField(\"HIRE_DATE\",DateType(),True),\n",
    "    StructField(\"JOB_ID\",StringType(),True),\n",
    "    StructField(\"SALARY\",IntegerType(),True),\n",
    "    StructField(\"COMMISSION_PCT\",FloatType(),True),\n",
    "    StructField(\"MANAGER_ID\",IntegerType(),True),\n",
    "    StructField(\"DEPARTMENT_ID\",IntegerType(),True)\n",
    "\n",
    "]\n",
    ")"
   ]
  },
  {
   "cell_type": "code",
   "execution_count": 0,
   "metadata": {
    "application/vnd.databricks.v1+cell": {
     "cellMetadata": {
      "byteLimit": 2048000,
      "rowLimit": 10000
     },
     "inputWidgets": {},
     "nuid": "c43b6307-d447-4119-b42f-8b395fb8c8b5",
     "showTitle": false,
     "title": ""
    }
   },
   "outputs": [
    {
     "output_type": "stream",
     "name": "stdout",
     "output_type": "stream",
     "text": [
      "+----------+\n|FIRST_NAME|\n+----------+\n|    Donald|\n|   Douglas|\n+----------+\nonly showing top 2 rows\n\n"
     ]
    }
   ],
   "source": [
    "# DataFrame - consist of Rows and Columns. Columns are expression ( means set of transformation on one or more than one values in a row)\n",
    "# Select columns by string method \n",
    "\n",
    "df.select(\"FIRST_NAME\").show(2)"
   ]
  },
  {
   "cell_type": "code",
   "execution_count": 0,
   "metadata": {
    "application/vnd.databricks.v1+cell": {
     "cellMetadata": {
      "byteLimit": 2048000,
      "rowLimit": 10000
     },
     "inputWidgets": {},
     "nuid": "70a23fe8-6a20-4235-a357-29d54c228c2d",
     "showTitle": false,
     "title": ""
    }
   },
   "outputs": [
    {
     "output_type": "stream",
     "name": "stdout",
     "output_type": "stream",
     "text": [
      "+----------+\n|FIRST_NAME|\n+----------+\n|    Donald|\n|   Douglas|\n+----------+\nonly showing top 2 rows\n\n"
     ]
    }
   ],
   "source": [
    "# Select by col method. \n",
    "df.select(col(\"FIRST_NAME\")).show(2)"
   ]
  },
  {
   "cell_type": "code",
   "execution_count": 0,
   "metadata": {
    "application/vnd.databricks.v1+cell": {
     "cellMetadata": {
      "byteLimit": 2048000,
      "rowLimit": 10000
     },
     "inputWidgets": {},
     "nuid": "11c0035d-5633-4daf-83f0-6caa6dcc1ab2",
     "showTitle": false,
     "title": ""
    }
   },
   "outputs": [
    {
     "output_type": "stream",
     "name": "stdout",
     "output_type": "stream",
     "text": [
      "+-----------------+\n|(EMPLOYEE_ID + 5)|\n+-----------------+\n|              203|\n|              204|\n+-----------------+\nonly showing top 2 rows\n\n"
     ]
    }
   ],
   "source": [
    "# manipulating column by col method \n",
    "df.select(col(\"EMPLOYEE_ID\")+5).show(2)"
   ]
  },
  {
   "cell_type": "markdown",
   "metadata": {
    "application/vnd.databricks.v1+cell": {
     "cellMetadata": {},
     "inputWidgets": {},
     "nuid": "e488863a-2d6c-4ee1-953e-fcbca1223098",
     "showTitle": false,
     "title": ""
    }
   },
   "source": [
    "Multiple column select"
   ]
  },
  {
   "cell_type": "code",
   "execution_count": 0,
   "metadata": {
    "application/vnd.databricks.v1+cell": {
     "cellMetadata": {
      "byteLimit": 2048000,
      "rowLimit": 10000
     },
     "inputWidgets": {},
     "nuid": "b270de08-1fb6-4ffc-841f-5004f8fca014",
     "showTitle": false,
     "title": ""
    }
   },
   "outputs": [
    {
     "output_type": "stream",
     "name": "stdout",
     "output_type": "stream",
     "text": [
      "+-----------+----------+---------+\n|EMPLOYEE_ID|FIRST_NAME|LAST_NAME|\n+-----------+----------+---------+\n|        198|    Donald| OConnell|\n|        199|   Douglas|    Grant|\n+-----------+----------+---------+\nonly showing top 2 rows\n\n"
     ]
    }
   ],
   "source": [
    "df.select(\"EMPLOYEE_ID\",\"FIRST_NAME\",\"LAST_NAME\").show(2)"
   ]
  },
  {
   "cell_type": "code",
   "execution_count": 0,
   "metadata": {
    "application/vnd.databricks.v1+cell": {
     "cellMetadata": {
      "byteLimit": 2048000,
      "rowLimit": 10000
     },
     "inputWidgets": {},
     "nuid": "570bc0ea-7e1c-43bd-8ada-21ef430be202",
     "showTitle": false,
     "title": ""
    }
   },
   "outputs": [
    {
     "output_type": "stream",
     "name": "stdout",
     "output_type": "stream",
     "text": [
      "+-----------+----------+---------+\n|EMPLOYEE_ID|FIRST_NAME|LAST_NAME|\n+-----------+----------+---------+\n|        198|    Donald| OConnell|\n|        199|   Douglas|    Grant|\n+-----------+----------+---------+\nonly showing top 2 rows\n\n"
     ]
    }
   ],
   "source": [
    "df.select(col(\"EMPLOYEE_ID\"),col(\"FIRST_NAME\"),col(\"LAST_NAME\")).show(2)"
   ]
  },
  {
   "cell_type": "code",
   "execution_count": 0,
   "metadata": {
    "application/vnd.databricks.v1+cell": {
     "cellMetadata": {
      "byteLimit": 2048000,
      "rowLimit": 10000
     },
     "inputWidgets": {},
     "nuid": "753a811c-404a-4b2a-832e-a71796103e15",
     "showTitle": false,
     "title": ""
    }
   },
   "outputs": [
    {
     "output_type": "stream",
     "name": "stdout",
     "output_type": "stream",
     "text": [
      "+-----------+----------+---------+--------+\n|EMPLOYEE_ID|FIRST_NAME|LAST_NAME|   EMAIL|\n+-----------+----------+---------+--------+\n|        198|    Donald| OConnell|DOCONNEL|\n|        199|   Douglas|    Grant|  DGRANT|\n+-----------+----------+---------+--------+\nonly showing top 2 rows\n\n"
     ]
    }
   ],
   "source": [
    "#Different way to select columns. the bracket way are used when we are joining dataframe when column name are different.\n",
    "df.select(\"EMPLOYEE_ID\",col(\"FIRST_NAME\"),df[\"LAST_NAME\"],df.EMAIL).show(2)"
   ]
  },
  {
   "cell_type": "markdown",
   "metadata": {
    "application/vnd.databricks.v1+cell": {
     "cellMetadata": {},
     "inputWidgets": {},
     "nuid": "60613a3e-7b45-4c70-b980-669047c995bf",
     "showTitle": false,
     "title": ""
    }
   },
   "source": [
    "Expression"
   ]
  },
  {
   "cell_type": "code",
   "execution_count": 0,
   "metadata": {
    "application/vnd.databricks.v1+cell": {
     "cellMetadata": {
      "byteLimit": 2048000,
      "rowLimit": 10000
     },
     "inputWidgets": {},
     "nuid": "b58b56af-cf46-457c-b928-27f9d49cf1b4",
     "showTitle": false,
     "title": ""
    }
   },
   "outputs": [
    {
     "output_type": "display_data",
     "data": {
      "text/plain": [
       "\u001B[0;31m---------------------------------------------------------------------------\u001B[0m\n",
       "\u001B[0;31mAnalysisException\u001B[0m                         Traceback (most recent call last)\n",
       "File \u001B[0;32m<command-1692221140788134>:1\u001B[0m\n",
       "\u001B[0;32m----> 1\u001B[0m \u001B[43mdf\u001B[49m\u001B[38;5;241;43m.\u001B[39;49m\u001B[43mselect\u001B[49m\u001B[43m(\u001B[49m\u001B[38;5;124;43m\"\u001B[39;49m\u001B[38;5;124;43mEMPLOYEE_ID +5\u001B[39;49m\u001B[38;5;124;43m\"\u001B[39;49m\u001B[43m)\u001B[49m\u001B[38;5;241m.\u001B[39mshow()\n",
       "\n",
       "File \u001B[0;32m/databricks/spark/python/pyspark/instrumentation_utils.py:48\u001B[0m, in \u001B[0;36m_wrap_function.<locals>.wrapper\u001B[0;34m(*args, **kwargs)\u001B[0m\n",
       "\u001B[1;32m     46\u001B[0m start \u001B[38;5;241m=\u001B[39m time\u001B[38;5;241m.\u001B[39mperf_counter()\n",
       "\u001B[1;32m     47\u001B[0m \u001B[38;5;28;01mtry\u001B[39;00m:\n",
       "\u001B[0;32m---> 48\u001B[0m     res \u001B[38;5;241m=\u001B[39m \u001B[43mfunc\u001B[49m\u001B[43m(\u001B[49m\u001B[38;5;241;43m*\u001B[39;49m\u001B[43margs\u001B[49m\u001B[43m,\u001B[49m\u001B[43m \u001B[49m\u001B[38;5;241;43m*\u001B[39;49m\u001B[38;5;241;43m*\u001B[39;49m\u001B[43mkwargs\u001B[49m\u001B[43m)\u001B[49m\n",
       "\u001B[1;32m     49\u001B[0m     logger\u001B[38;5;241m.\u001B[39mlog_success(\n",
       "\u001B[1;32m     50\u001B[0m         module_name, class_name, function_name, time\u001B[38;5;241m.\u001B[39mperf_counter() \u001B[38;5;241m-\u001B[39m start, signature\n",
       "\u001B[1;32m     51\u001B[0m     )\n",
       "\u001B[1;32m     52\u001B[0m     \u001B[38;5;28;01mreturn\u001B[39;00m res\n",
       "\n",
       "File \u001B[0;32m/databricks/spark/python/pyspark/sql/dataframe.py:3023\u001B[0m, in \u001B[0;36mDataFrame.select\u001B[0;34m(self, *cols)\u001B[0m\n",
       "\u001B[1;32m   2978\u001B[0m \u001B[38;5;28;01mdef\u001B[39;00m \u001B[38;5;21mselect\u001B[39m(\u001B[38;5;28mself\u001B[39m, \u001B[38;5;241m*\u001B[39mcols: \u001B[38;5;124m\"\u001B[39m\u001B[38;5;124mColumnOrName\u001B[39m\u001B[38;5;124m\"\u001B[39m) \u001B[38;5;241m-\u001B[39m\u001B[38;5;241m>\u001B[39m \u001B[38;5;124m\"\u001B[39m\u001B[38;5;124mDataFrame\u001B[39m\u001B[38;5;124m\"\u001B[39m:  \u001B[38;5;66;03m# type: ignore[misc]\u001B[39;00m\n",
       "\u001B[1;32m   2979\u001B[0m     \u001B[38;5;124;03m\"\"\"Projects a set of expressions and returns a new :class:`DataFrame`.\u001B[39;00m\n",
       "\u001B[1;32m   2980\u001B[0m \n",
       "\u001B[1;32m   2981\u001B[0m \u001B[38;5;124;03m    .. versionadded:: 1.3.0\u001B[39;00m\n",
       "\u001B[0;32m   (...)\u001B[0m\n",
       "\u001B[1;32m   3021\u001B[0m \u001B[38;5;124;03m    +-----+---+\u001B[39;00m\n",
       "\u001B[1;32m   3022\u001B[0m \u001B[38;5;124;03m    \"\"\"\u001B[39;00m\n",
       "\u001B[0;32m-> 3023\u001B[0m     jdf \u001B[38;5;241m=\u001B[39m \u001B[38;5;28;43mself\u001B[39;49m\u001B[38;5;241;43m.\u001B[39;49m\u001B[43m_jdf\u001B[49m\u001B[38;5;241;43m.\u001B[39;49m\u001B[43mselect\u001B[49m\u001B[43m(\u001B[49m\u001B[38;5;28;43mself\u001B[39;49m\u001B[38;5;241;43m.\u001B[39;49m\u001B[43m_jcols\u001B[49m\u001B[43m(\u001B[49m\u001B[38;5;241;43m*\u001B[39;49m\u001B[43mcols\u001B[49m\u001B[43m)\u001B[49m\u001B[43m)\u001B[49m\n",
       "\u001B[1;32m   3024\u001B[0m     \u001B[38;5;28;01mreturn\u001B[39;00m DataFrame(jdf, \u001B[38;5;28mself\u001B[39m\u001B[38;5;241m.\u001B[39msparkSession)\n",
       "\n",
       "File \u001B[0;32m/databricks/spark/python/lib/py4j-0.10.9.5-src.zip/py4j/java_gateway.py:1321\u001B[0m, in \u001B[0;36mJavaMember.__call__\u001B[0;34m(self, *args)\u001B[0m\n",
       "\u001B[1;32m   1315\u001B[0m command \u001B[38;5;241m=\u001B[39m proto\u001B[38;5;241m.\u001B[39mCALL_COMMAND_NAME \u001B[38;5;241m+\u001B[39m\\\n",
       "\u001B[1;32m   1316\u001B[0m     \u001B[38;5;28mself\u001B[39m\u001B[38;5;241m.\u001B[39mcommand_header \u001B[38;5;241m+\u001B[39m\\\n",
       "\u001B[1;32m   1317\u001B[0m     args_command \u001B[38;5;241m+\u001B[39m\\\n",
       "\u001B[1;32m   1318\u001B[0m     proto\u001B[38;5;241m.\u001B[39mEND_COMMAND_PART\n",
       "\u001B[1;32m   1320\u001B[0m answer \u001B[38;5;241m=\u001B[39m \u001B[38;5;28mself\u001B[39m\u001B[38;5;241m.\u001B[39mgateway_client\u001B[38;5;241m.\u001B[39msend_command(command)\n",
       "\u001B[0;32m-> 1321\u001B[0m return_value \u001B[38;5;241m=\u001B[39m \u001B[43mget_return_value\u001B[49m\u001B[43m(\u001B[49m\n",
       "\u001B[1;32m   1322\u001B[0m \u001B[43m    \u001B[49m\u001B[43manswer\u001B[49m\u001B[43m,\u001B[49m\u001B[43m \u001B[49m\u001B[38;5;28;43mself\u001B[39;49m\u001B[38;5;241;43m.\u001B[39;49m\u001B[43mgateway_client\u001B[49m\u001B[43m,\u001B[49m\u001B[43m \u001B[49m\u001B[38;5;28;43mself\u001B[39;49m\u001B[38;5;241;43m.\u001B[39;49m\u001B[43mtarget_id\u001B[49m\u001B[43m,\u001B[49m\u001B[43m \u001B[49m\u001B[38;5;28;43mself\u001B[39;49m\u001B[38;5;241;43m.\u001B[39;49m\u001B[43mname\u001B[49m\u001B[43m)\u001B[49m\n",
       "\u001B[1;32m   1324\u001B[0m \u001B[38;5;28;01mfor\u001B[39;00m temp_arg \u001B[38;5;129;01min\u001B[39;00m temp_args:\n",
       "\u001B[1;32m   1325\u001B[0m     temp_arg\u001B[38;5;241m.\u001B[39m_detach()\n",
       "\n",
       "File \u001B[0;32m/databricks/spark/python/pyspark/errors/exceptions.py:234\u001B[0m, in \u001B[0;36mcapture_sql_exception.<locals>.deco\u001B[0;34m(*a, **kw)\u001B[0m\n",
       "\u001B[1;32m    230\u001B[0m converted \u001B[38;5;241m=\u001B[39m convert_exception(e\u001B[38;5;241m.\u001B[39mjava_exception)\n",
       "\u001B[1;32m    231\u001B[0m \u001B[38;5;28;01mif\u001B[39;00m \u001B[38;5;129;01mnot\u001B[39;00m \u001B[38;5;28misinstance\u001B[39m(converted, UnknownException):\n",
       "\u001B[1;32m    232\u001B[0m     \u001B[38;5;66;03m# Hide where the exception came from that shows a non-Pythonic\u001B[39;00m\n",
       "\u001B[1;32m    233\u001B[0m     \u001B[38;5;66;03m# JVM exception message.\u001B[39;00m\n",
       "\u001B[0;32m--> 234\u001B[0m     \u001B[38;5;28;01mraise\u001B[39;00m converted \u001B[38;5;28;01mfrom\u001B[39;00m \u001B[38;5;28mNone\u001B[39m\n",
       "\u001B[1;32m    235\u001B[0m \u001B[38;5;28;01melse\u001B[39;00m:\n",
       "\u001B[1;32m    236\u001B[0m     \u001B[38;5;28;01mraise\u001B[39;00m\n",
       "\n",
       "\u001B[0;31mAnalysisException\u001B[0m: [UNRESOLVED_COLUMN.WITH_SUGGESTION] A column or function parameter with name `EMPLOYEE_ID +5` cannot be resolved. Did you mean one of the following? [`EMPLOYEE_ID`, `MANAGER_ID`, `DEPARTMENT_ID`, `JOB_ID`, `PHONE_NUMBER`].;\n",
       "'Project ['EMPLOYEE_ID +5]\n",
       "+- Relation [EMPLOYEE_ID#80,FIRST_NAME#81,LAST_NAME#82,EMAIL#83,PHONE_NUMBER#84,HIRE_DATE#85,JOB_ID#86,SALARY#87,COMMISSION_PCT#88,MANAGER_ID#89,DEPARTMENT_ID#90] csv\n"
      ]
     },
     "metadata": {
      "application/vnd.databricks.v1+output": {
       "arguments": {},
       "data": "\u001B[0;31m---------------------------------------------------------------------------\u001B[0m\n\u001B[0;31mAnalysisException\u001B[0m                         Traceback (most recent call last)\nFile \u001B[0;32m<command-1692221140788134>:1\u001B[0m\n\u001B[0;32m----> 1\u001B[0m \u001B[43mdf\u001B[49m\u001B[38;5;241;43m.\u001B[39;49m\u001B[43mselect\u001B[49m\u001B[43m(\u001B[49m\u001B[38;5;124;43m\"\u001B[39;49m\u001B[38;5;124;43mEMPLOYEE_ID +5\u001B[39;49m\u001B[38;5;124;43m\"\u001B[39;49m\u001B[43m)\u001B[49m\u001B[38;5;241m.\u001B[39mshow()\n\nFile \u001B[0;32m/databricks/spark/python/pyspark/instrumentation_utils.py:48\u001B[0m, in \u001B[0;36m_wrap_function.<locals>.wrapper\u001B[0;34m(*args, **kwargs)\u001B[0m\n\u001B[1;32m     46\u001B[0m start \u001B[38;5;241m=\u001B[39m time\u001B[38;5;241m.\u001B[39mperf_counter()\n\u001B[1;32m     47\u001B[0m \u001B[38;5;28;01mtry\u001B[39;00m:\n\u001B[0;32m---> 48\u001B[0m     res \u001B[38;5;241m=\u001B[39m \u001B[43mfunc\u001B[49m\u001B[43m(\u001B[49m\u001B[38;5;241;43m*\u001B[39;49m\u001B[43margs\u001B[49m\u001B[43m,\u001B[49m\u001B[43m \u001B[49m\u001B[38;5;241;43m*\u001B[39;49m\u001B[38;5;241;43m*\u001B[39;49m\u001B[43mkwargs\u001B[49m\u001B[43m)\u001B[49m\n\u001B[1;32m     49\u001B[0m     logger\u001B[38;5;241m.\u001B[39mlog_success(\n\u001B[1;32m     50\u001B[0m         module_name, class_name, function_name, time\u001B[38;5;241m.\u001B[39mperf_counter() \u001B[38;5;241m-\u001B[39m start, signature\n\u001B[1;32m     51\u001B[0m     )\n\u001B[1;32m     52\u001B[0m     \u001B[38;5;28;01mreturn\u001B[39;00m res\n\nFile \u001B[0;32m/databricks/spark/python/pyspark/sql/dataframe.py:3023\u001B[0m, in \u001B[0;36mDataFrame.select\u001B[0;34m(self, *cols)\u001B[0m\n\u001B[1;32m   2978\u001B[0m \u001B[38;5;28;01mdef\u001B[39;00m \u001B[38;5;21mselect\u001B[39m(\u001B[38;5;28mself\u001B[39m, \u001B[38;5;241m*\u001B[39mcols: \u001B[38;5;124m\"\u001B[39m\u001B[38;5;124mColumnOrName\u001B[39m\u001B[38;5;124m\"\u001B[39m) \u001B[38;5;241m-\u001B[39m\u001B[38;5;241m>\u001B[39m \u001B[38;5;124m\"\u001B[39m\u001B[38;5;124mDataFrame\u001B[39m\u001B[38;5;124m\"\u001B[39m:  \u001B[38;5;66;03m# type: ignore[misc]\u001B[39;00m\n\u001B[1;32m   2979\u001B[0m     \u001B[38;5;124;03m\"\"\"Projects a set of expressions and returns a new :class:`DataFrame`.\u001B[39;00m\n\u001B[1;32m   2980\u001B[0m \n\u001B[1;32m   2981\u001B[0m \u001B[38;5;124;03m    .. versionadded:: 1.3.0\u001B[39;00m\n\u001B[0;32m   (...)\u001B[0m\n\u001B[1;32m   3021\u001B[0m \u001B[38;5;124;03m    +-----+---+\u001B[39;00m\n\u001B[1;32m   3022\u001B[0m \u001B[38;5;124;03m    \"\"\"\u001B[39;00m\n\u001B[0;32m-> 3023\u001B[0m     jdf \u001B[38;5;241m=\u001B[39m \u001B[38;5;28;43mself\u001B[39;49m\u001B[38;5;241;43m.\u001B[39;49m\u001B[43m_jdf\u001B[49m\u001B[38;5;241;43m.\u001B[39;49m\u001B[43mselect\u001B[49m\u001B[43m(\u001B[49m\u001B[38;5;28;43mself\u001B[39;49m\u001B[38;5;241;43m.\u001B[39;49m\u001B[43m_jcols\u001B[49m\u001B[43m(\u001B[49m\u001B[38;5;241;43m*\u001B[39;49m\u001B[43mcols\u001B[49m\u001B[43m)\u001B[49m\u001B[43m)\u001B[49m\n\u001B[1;32m   3024\u001B[0m     \u001B[38;5;28;01mreturn\u001B[39;00m DataFrame(jdf, \u001B[38;5;28mself\u001B[39m\u001B[38;5;241m.\u001B[39msparkSession)\n\nFile \u001B[0;32m/databricks/spark/python/lib/py4j-0.10.9.5-src.zip/py4j/java_gateway.py:1321\u001B[0m, in \u001B[0;36mJavaMember.__call__\u001B[0;34m(self, *args)\u001B[0m\n\u001B[1;32m   1315\u001B[0m command \u001B[38;5;241m=\u001B[39m proto\u001B[38;5;241m.\u001B[39mCALL_COMMAND_NAME \u001B[38;5;241m+\u001B[39m\\\n\u001B[1;32m   1316\u001B[0m     \u001B[38;5;28mself\u001B[39m\u001B[38;5;241m.\u001B[39mcommand_header \u001B[38;5;241m+\u001B[39m\\\n\u001B[1;32m   1317\u001B[0m     args_command \u001B[38;5;241m+\u001B[39m\\\n\u001B[1;32m   1318\u001B[0m     proto\u001B[38;5;241m.\u001B[39mEND_COMMAND_PART\n\u001B[1;32m   1320\u001B[0m answer \u001B[38;5;241m=\u001B[39m \u001B[38;5;28mself\u001B[39m\u001B[38;5;241m.\u001B[39mgateway_client\u001B[38;5;241m.\u001B[39msend_command(command)\n\u001B[0;32m-> 1321\u001B[0m return_value \u001B[38;5;241m=\u001B[39m \u001B[43mget_return_value\u001B[49m\u001B[43m(\u001B[49m\n\u001B[1;32m   1322\u001B[0m \u001B[43m    \u001B[49m\u001B[43manswer\u001B[49m\u001B[43m,\u001B[49m\u001B[43m \u001B[49m\u001B[38;5;28;43mself\u001B[39;49m\u001B[38;5;241;43m.\u001B[39;49m\u001B[43mgateway_client\u001B[49m\u001B[43m,\u001B[49m\u001B[43m \u001B[49m\u001B[38;5;28;43mself\u001B[39;49m\u001B[38;5;241;43m.\u001B[39;49m\u001B[43mtarget_id\u001B[49m\u001B[43m,\u001B[49m\u001B[43m \u001B[49m\u001B[38;5;28;43mself\u001B[39;49m\u001B[38;5;241;43m.\u001B[39;49m\u001B[43mname\u001B[49m\u001B[43m)\u001B[49m\n\u001B[1;32m   1324\u001B[0m \u001B[38;5;28;01mfor\u001B[39;00m temp_arg \u001B[38;5;129;01min\u001B[39;00m temp_args:\n\u001B[1;32m   1325\u001B[0m     temp_arg\u001B[38;5;241m.\u001B[39m_detach()\n\nFile \u001B[0;32m/databricks/spark/python/pyspark/errors/exceptions.py:234\u001B[0m, in \u001B[0;36mcapture_sql_exception.<locals>.deco\u001B[0;34m(*a, **kw)\u001B[0m\n\u001B[1;32m    230\u001B[0m converted \u001B[38;5;241m=\u001B[39m convert_exception(e\u001B[38;5;241m.\u001B[39mjava_exception)\n\u001B[1;32m    231\u001B[0m \u001B[38;5;28;01mif\u001B[39;00m \u001B[38;5;129;01mnot\u001B[39;00m \u001B[38;5;28misinstance\u001B[39m(converted, UnknownException):\n\u001B[1;32m    232\u001B[0m     \u001B[38;5;66;03m# Hide where the exception came from that shows a non-Pythonic\u001B[39;00m\n\u001B[1;32m    233\u001B[0m     \u001B[38;5;66;03m# JVM exception message.\u001B[39;00m\n\u001B[0;32m--> 234\u001B[0m     \u001B[38;5;28;01mraise\u001B[39;00m converted \u001B[38;5;28;01mfrom\u001B[39;00m \u001B[38;5;28mNone\u001B[39m\n\u001B[1;32m    235\u001B[0m \u001B[38;5;28;01melse\u001B[39;00m:\n\u001B[1;32m    236\u001B[0m     \u001B[38;5;28;01mraise\u001B[39;00m\n\n\u001B[0;31mAnalysisException\u001B[0m: [UNRESOLVED_COLUMN.WITH_SUGGESTION] A column or function parameter with name `EMPLOYEE_ID +5` cannot be resolved. Did you mean one of the following? [`EMPLOYEE_ID`, `MANAGER_ID`, `DEPARTMENT_ID`, `JOB_ID`, `PHONE_NUMBER`].;\n'Project ['EMPLOYEE_ID +5]\n+- Relation [EMPLOYEE_ID#80,FIRST_NAME#81,LAST_NAME#82,EMAIL#83,PHONE_NUMBER#84,HIRE_DATE#85,JOB_ID#86,SALARY#87,COMMISSION_PCT#88,MANAGER_ID#89,DEPARTMENT_ID#90] csv\n",
       "errorSummary": "<span class='ansi-red-fg'>AnalysisException</span>: [UNRESOLVED_COLUMN.WITH_SUGGESTION] A column or function parameter with name `EMPLOYEE_ID +5` cannot be resolved. Did you mean one of the following? [`EMPLOYEE_ID`, `MANAGER_ID`, `DEPARTMENT_ID`, `JOB_ID`, `PHONE_NUMBER`].;\n'Project ['EMPLOYEE_ID +5]\n+- Relation [EMPLOYEE_ID#80,FIRST_NAME#81,LAST_NAME#82,EMAIL#83,PHONE_NUMBER#84,HIRE_DATE#85,JOB_ID#86,SALARY#87,COMMISSION_PCT#88,MANAGER_ID#89,DEPARTMENT_ID#90] csv\n",
       "errorTraceType": "ansi",
       "metadata": {},
       "type": "ipynbError"
      }
     },
     "output_type": "display_data"
    }
   ],
   "source": [
    "df.select(\"EMPLOYEE_ID + 5\").show()"
   ]
  },
  {
   "cell_type": "code",
   "execution_count": 0,
   "metadata": {
    "application/vnd.databricks.v1+cell": {
     "cellMetadata": {
      "byteLimit": 2048000,
      "rowLimit": 10000
     },
     "inputWidgets": {},
     "nuid": "a4b21152-4b68-41b0-b5ff-9075de126500",
     "showTitle": false,
     "title": ""
    }
   },
   "outputs": [
    {
     "output_type": "stream",
     "name": "stdout",
     "output_type": "stream",
     "text": [
      "+-----------------+\n|(EMPLOYEE_ID + 5)|\n+-----------------+\n|              203|\n|              204|\n+-----------------+\nonly showing top 2 rows\n\n"
     ]
    }
   ],
   "source": [
    "df.select(expr(\"EMPLOYEE_ID + 5 \")).show(2)"
   ]
  },
  {
   "cell_type": "code",
   "execution_count": 0,
   "metadata": {
    "application/vnd.databricks.v1+cell": {
     "cellMetadata": {
      "byteLimit": 2048000,
      "rowLimit": 10000
     },
     "inputWidgets": {},
     "nuid": "c6da1f88-8e4f-4ebe-a8a5-9d2e28fdf96d",
     "showTitle": false,
     "title": ""
    }
   },
   "outputs": [
    {
     "output_type": "stream",
     "name": "stdout",
     "output_type": "stream",
     "text": [
      "+------+----------+----------------+\n|emp_id|first_name|       full_name|\n+------+----------+----------------+\n|   198|    Donald|  DonaldOConnell|\n|   199|   Douglas|    DouglasGrant|\n|   200|  Jennifer|  JenniferWhalen|\n|   201|   Michael|MichaelHartstein|\n|   202|       Pat|          PatFay|\n+------+----------+----------------+\nonly showing top 5 rows\n\n"
     ]
    }
   ],
   "source": [
    "df.select(expr(\"EMPLOYEE_ID as emp_id\"),expr(\"FIRST_NAME as first_name\"), expr(\"concat(FIRST_NAME,LAST_NAME) as full_name\")).show(5)"
   ]
  },
  {
   "cell_type": "code",
   "execution_count": 0,
   "metadata": {
    "application/vnd.databricks.v1+cell": {
     "cellMetadata": {
      "byteLimit": 2048000,
      "rowLimit": 10000
     },
     "inputWidgets": {},
     "nuid": "cb0e2cb4-db54-4d47-ba58-b479f4118f32",
     "showTitle": false,
     "title": ""
    }
   },
   "outputs": [
    {
     "output_type": "stream",
     "name": "stdout",
     "output_type": "stream",
     "text": [
      "+-----------+----------+---------+--------+------------+---------+--------+------+--------------+----------+-------------+\n|EMPLOYEE_ID|FIRST_NAME|LAST_NAME|   EMAIL|PHONE_NUMBER|HIRE_DATE|  JOB_ID|SALARY|COMMISSION_PCT|MANAGER_ID|DEPARTMENT_ID|\n+-----------+----------+---------+--------+------------+---------+--------+------+--------------+----------+-------------+\n|        198|    Donald| OConnell|DOCONNEL|650.507.9833|21-JUN-07|SH_CLERK|  2600|            - |       124|           50|\n|        199|   Douglas|    Grant|  DGRANT|650.507.9844|13-JAN-08|SH_CLERK|  2600|            - |       124|           50|\n+-----------+----------+---------+--------+------------+---------+--------+------+--------------+----------+-------------+\nonly showing top 2 rows\n\n"
     ]
    }
   ],
   "source": [
    "df.select(\"*\").show(2)"
   ]
  },
  {
   "cell_type": "markdown",
   "metadata": {
    "application/vnd.databricks.v1+cell": {
     "cellMetadata": {},
     "inputWidgets": {},
     "nuid": "f75eec98-85ec-433f-bf6d-7d5159825a21",
     "showTitle": false,
     "title": ""
    }
   },
   "source": [
    "Spark SQL "
   ]
  },
  {
   "cell_type": "code",
   "execution_count": 0,
   "metadata": {
    "application/vnd.databricks.v1+cell": {
     "cellMetadata": {
      "byteLimit": 2048000,
      "rowLimit": 10000
     },
     "inputWidgets": {},
     "nuid": "a7741470-49fd-4538-a05c-27ebfd5456a9",
     "showTitle": false,
     "title": ""
    }
   },
   "outputs": [],
   "source": [
    "# To convert the dataframe into sql we have to table or temp view \n",
    "\n",
    "df.createOrReplaceTempView(\"emp\")"
   ]
  },
  {
   "cell_type": "code",
   "execution_count": 0,
   "metadata": {
    "application/vnd.databricks.v1+cell": {
     "cellMetadata": {
      "byteLimit": 2048000,
      "rowLimit": 10000
     },
     "inputWidgets": {},
     "nuid": "b383409a-9895-4f0f-9201-e832cb925568",
     "showTitle": false,
     "title": ""
    }
   },
   "outputs": [
    {
     "output_type": "stream",
     "name": "stdout",
     "output_type": "stream",
     "text": [
      "+-----------+----------+---------+--------+------------+---------+----------+------+--------------+----------+-------------+\n|EMPLOYEE_ID|FIRST_NAME|LAST_NAME|   EMAIL|PHONE_NUMBER|HIRE_DATE|    JOB_ID|SALARY|COMMISSION_PCT|MANAGER_ID|DEPARTMENT_ID|\n+-----------+----------+---------+--------+------------+---------+----------+------+--------------+----------+-------------+\n|        198|    Donald| OConnell|DOCONNEL|650.507.9833|21-JUN-07|  SH_CLERK|  2600|            - |       124|           50|\n|        199|   Douglas|    Grant|  DGRANT|650.507.9844|13-JAN-08|  SH_CLERK|  2600|            - |       124|           50|\n|        200|  Jennifer|   Whalen| JWHALEN|515.123.4444|17-SEP-03|   AD_ASST|  4400|            - |       101|           10|\n|        201|   Michael|Hartstein|MHARTSTE|515.123.5555|17-FEB-04|    MK_MAN| 13000|            - |       100|           20|\n|        202|       Pat|      Fay|    PFAY|603.123.6666|17-AUG-05|    MK_REP|  6000|            - |       201|           20|\n|        203|     Susan|   Mavris| SMAVRIS|515.123.7777|07-JUN-02|    HR_REP|  6500|            - |       101|           40|\n|        204|   Hermann|     Baer|   HBAER|515.123.8888|07-JUN-02|    PR_REP| 10000|            - |       101|           70|\n|        205|   Shelley|  Higgins|SHIGGINS|515.123.8080|07-JUN-02|    AC_MGR| 12008|            - |       101|          110|\n|        206|   William|    Gietz|  WGIETZ|515.123.8181|07-JUN-02|AC_ACCOUNT|  8300|            - |       205|          110|\n|        100|    Steven|     King|   SKING|515.123.4567|17-JUN-03|   AD_PRES| 24000|            - |        - |           90|\n+-----------+----------+---------+--------+------------+---------+----------+------+--------------+----------+-------------+\n\n"
     ]
    }
   ],
   "source": [
    "spark.sql(\"\"\" \n",
    "select * from emp limit 10          \n",
    "\"\"\").show()"
   ]
  },
  {
   "cell_type": "markdown",
   "metadata": {
    "application/vnd.databricks.v1+cell": {
     "cellMetadata": {},
     "inputWidgets": {},
     "nuid": "8ddf4281-1d4d-4f9a-9371-535328fc020e",
     "showTitle": false,
     "title": ""
    }
   },
   "source": [
    "Transformation"
   ]
  },
  {
   "cell_type": "code",
   "execution_count": 0,
   "metadata": {
    "application/vnd.databricks.v1+cell": {
     "cellMetadata": {
      "byteLimit": 2048000,
      "rowLimit": 10000
     },
     "inputWidgets": {},
     "nuid": "0f11d237-6726-4338-896a-11a8dee73e53",
     "showTitle": false,
     "title": ""
    }
   },
   "outputs": [
    {
     "output_type": "display_data",
     "data": {
      "text/html": [
       "<style scoped>\n",
       "  .table-result-container {\n",
       "    max-height: 300px;\n",
       "    overflow: auto;\n",
       "  }\n",
       "  table, th, td {\n",
       "    border: 1px solid black;\n",
       "    border-collapse: collapse;\n",
       "  }\n",
       "  th, td {\n",
       "    padding: 5px;\n",
       "  }\n",
       "  th {\n",
       "    text-align: left;\n",
       "  }\n",
       "</style><div class='table-result-container'><table class='table-result'><thead style='background-color: white'><tr><th>EMPLOYEE_ID</th><th>FIRST_NAME</th><th>LAST_NAME</th><th>EMAIL</th><th>PHONE_NUMBER</th><th>HIRE_DATE</th><th>JOB_ID</th><th>SALARY</th><th>COMMISSION_PCT</th><th>MANAGER_ID</th><th>DEPARTMENT_ID</th></tr></thead><tbody><tr><td>198</td><td>Donald</td><td>OConnell</td><td>DOCONNEL</td><td>650.507.9833</td><td>21-JUN-07</td><td>SH_CLERK</td><td>2600</td><td> - </td><td>124</td><td>50</td></tr><tr><td>199</td><td>Douglas</td><td>Grant</td><td>DGRANT</td><td>650.507.9844</td><td>13-JAN-08</td><td>SH_CLERK</td><td>2600</td><td> - </td><td>124</td><td>50</td></tr><tr><td>200</td><td>Jennifer</td><td>Whalen</td><td>JWHALEN</td><td>515.123.4444</td><td>17-SEP-03</td><td>AD_ASST</td><td>4400</td><td> - </td><td>101</td><td>10</td></tr><tr><td>201</td><td>Michael</td><td>Hartstein</td><td>MHARTSTE</td><td>515.123.5555</td><td>17-FEB-04</td><td>MK_MAN</td><td>13000</td><td> - </td><td>100</td><td>20</td></tr><tr><td>202</td><td>Pat</td><td>Fay</td><td>PFAY</td><td>603.123.6666</td><td>17-AUG-05</td><td>MK_REP</td><td>6000</td><td> - </td><td>201</td><td>20</td></tr><tr><td>203</td><td>Susan</td><td>Mavris</td><td>SMAVRIS</td><td>515.123.7777</td><td>07-JUN-02</td><td>HR_REP</td><td>6500</td><td> - </td><td>101</td><td>40</td></tr><tr><td>204</td><td>Hermann</td><td>Baer</td><td>HBAER</td><td>515.123.8888</td><td>07-JUN-02</td><td>PR_REP</td><td>10000</td><td> - </td><td>101</td><td>70</td></tr><tr><td>205</td><td>Shelley</td><td>Higgins</td><td>SHIGGINS</td><td>515.123.8080</td><td>07-JUN-02</td><td>AC_MGR</td><td>12008</td><td> - </td><td>101</td><td>110</td></tr><tr><td>206</td><td>William</td><td>Gietz</td><td>WGIETZ</td><td>515.123.8181</td><td>07-JUN-02</td><td>AC_ACCOUNT</td><td>8300</td><td> - </td><td>205</td><td>110</td></tr><tr><td>100</td><td>Steven</td><td>King</td><td>SKING</td><td>515.123.4567</td><td>17-JUN-03</td><td>AD_PRES</td><td>24000</td><td> - </td><td> - </td><td>90</td></tr><tr><td>101</td><td>Neena</td><td>Kochhar</td><td>NKOCHHAR</td><td>515.123.4568</td><td>21-SEP-05</td><td>AD_VP</td><td>17000</td><td> - </td><td>100</td><td>90</td></tr><tr><td>102</td><td>Lex</td><td>De Haan</td><td>LDEHAAN</td><td>515.123.4569</td><td>13-JAN-01</td><td>AD_VP</td><td>17000</td><td> - </td><td>100</td><td>90</td></tr><tr><td>103</td><td>Alexander</td><td>Hunold</td><td>AHUNOLD</td><td>590.423.4567</td><td>03-JAN-06</td><td>IT_PROG</td><td>9000</td><td> - </td><td>102</td><td>60</td></tr><tr><td>104</td><td>Bruce</td><td>Ernst</td><td>BERNST</td><td>590.423.4568</td><td>21-MAY-07</td><td>IT_PROG</td><td>6000</td><td> - </td><td>103</td><td>60</td></tr><tr><td>105</td><td>David</td><td>Austin</td><td>DAUSTIN</td><td>590.423.4569</td><td>25-JUN-05</td><td>IT_PROG</td><td>4800</td><td> - </td><td>103</td><td>60</td></tr><tr><td>106</td><td>Valli</td><td>Pataballa</td><td>VPATABAL</td><td>590.423.4560</td><td>05-FEB-06</td><td>IT_PROG</td><td>4800</td><td> - </td><td>103</td><td>60</td></tr><tr><td>107</td><td>Diana</td><td>Lorentz</td><td>DLORENTZ</td><td>590.423.5567</td><td>07-FEB-07</td><td>IT_PROG</td><td>4200</td><td> - </td><td>103</td><td>60</td></tr><tr><td>108</td><td>Nancy</td><td>Greenberg</td><td>NGREENBE</td><td>515.124.4569</td><td>17-AUG-02</td><td>FI_MGR</td><td>12008</td><td> - </td><td>101</td><td>100</td></tr><tr><td>109</td><td>Daniel</td><td>Faviet</td><td>DFAVIET</td><td>515.124.4169</td><td>16-AUG-02</td><td>FI_ACCOUNT</td><td>9000</td><td> - </td><td>108</td><td>100</td></tr><tr><td>110</td><td>John</td><td>Chen</td><td>JCHEN</td><td>515.124.4269</td><td>28-SEP-05</td><td>FI_ACCOUNT</td><td>8200</td><td> - </td><td>108</td><td>100</td></tr><tr><td>111</td><td>Ismael</td><td>Sciarra</td><td>ISCIARRA</td><td>515.124.4369</td><td>30-SEP-05</td><td>FI_ACCOUNT</td><td>7700</td><td> - </td><td>108</td><td>100</td></tr><tr><td>112</td><td>Jose Manuel</td><td>Urman</td><td>JMURMAN</td><td>515.124.4469</td><td>07-MAR-06</td><td>FI_ACCOUNT</td><td>7800</td><td> - </td><td>108</td><td>100</td></tr><tr><td>113</td><td>Luis</td><td>Popp</td><td>LPOPP</td><td>515.124.4567</td><td>07-DEC-07</td><td>FI_ACCOUNT</td><td>6900</td><td> - </td><td>108</td><td>100</td></tr><tr><td>114</td><td>Den</td><td>Raphaely</td><td>DRAPHEAL</td><td>515.127.4561</td><td>07-DEC-02</td><td>PU_MAN</td><td>11000</td><td> - </td><td>100</td><td>30</td></tr><tr><td>115</td><td>Alexander</td><td>Khoo</td><td>AKHOO</td><td>515.127.4562</td><td>18-MAY-03</td><td>PU_CLERK</td><td>3100</td><td> - </td><td>114</td><td>30</td></tr><tr><td>116</td><td>Shelli</td><td>Baida</td><td>SBAIDA</td><td>515.127.4563</td><td>24-DEC-05</td><td>PU_CLERK</td><td>2900</td><td> - </td><td>114</td><td>30</td></tr><tr><td>117</td><td>Sigal</td><td>Tobias</td><td>STOBIAS</td><td>515.127.4564</td><td>24-JUL-05</td><td>PU_CLERK</td><td>2800</td><td> - </td><td>114</td><td>30</td></tr><tr><td>118</td><td>Guy</td><td>Himuro</td><td>GHIMURO</td><td>515.127.4565</td><td>15-NOV-06</td><td>PU_CLERK</td><td>2600</td><td> - </td><td>114</td><td>30</td></tr><tr><td>119</td><td>Karen</td><td>Colmenares</td><td>KCOLMENA</td><td>515.127.4566</td><td>10-AUG-07</td><td>PU_CLERK</td><td>2500</td><td> - </td><td>114</td><td>30</td></tr><tr><td>120</td><td>Matthew</td><td>Weiss</td><td>MWEISS</td><td>650.123.1234</td><td>18-JUL-04</td><td>ST_MAN</td><td>8000</td><td> - </td><td>100</td><td>50</td></tr><tr><td>121</td><td>Adam</td><td>Fripp</td><td>AFRIPP</td><td>650.123.2234</td><td>10-APR-05</td><td>ST_MAN</td><td>8200</td><td> - </td><td>100</td><td>50</td></tr><tr><td>122</td><td>Payam</td><td>Kaufling</td><td>PKAUFLIN</td><td>650.123.3234</td><td>01-MAY-03</td><td>ST_MAN</td><td>7900</td><td> - </td><td>100</td><td>50</td></tr><tr><td>123</td><td>Shanta</td><td>Vollman</td><td>SVOLLMAN</td><td>650.123.4234</td><td>10-OCT-05</td><td>ST_MAN</td><td>6500</td><td> - </td><td>100</td><td>50</td></tr><tr><td>124</td><td>Kevin</td><td>Mourgos</td><td>KMOURGOS</td><td>650.123.5234</td><td>16-NOV-07</td><td>ST_MAN</td><td>5800</td><td> - </td><td>100</td><td>50</td></tr><tr><td>125</td><td>Julia</td><td>Nayer</td><td>JNAYER</td><td>650.124.1214</td><td>16-JUL-05</td><td>ST_CLERK</td><td>3200</td><td> - </td><td>120</td><td>50</td></tr><tr><td>126</td><td>Irene</td><td>Mikkilineni</td><td>IMIKKILI</td><td>650.124.1224</td><td>28-SEP-06</td><td>ST_CLERK</td><td>2700</td><td> - </td><td>120</td><td>50</td></tr><tr><td>127</td><td>James</td><td>Landry</td><td>JLANDRY</td><td>650.124.1334</td><td>14-JAN-07</td><td>ST_CLERK</td><td>2400</td><td> - </td><td>120</td><td>50</td></tr><tr><td>128</td><td>Steven</td><td>Markle</td><td>SMARKLE</td><td>650.124.1434</td><td>08-MAR-08</td><td>ST_CLERK</td><td>2200</td><td> - </td><td>120</td><td>50</td></tr><tr><td>129</td><td>Laura</td><td>Bissot</td><td>LBISSOT</td><td>650.124.5234</td><td>20-AUG-05</td><td>ST_CLERK</td><td>3300</td><td> - </td><td>121</td><td>50</td></tr><tr><td>130</td><td>Mozhe</td><td>Atkinson</td><td>MATKINSO</td><td>650.124.6234</td><td>30-OCT-05</td><td>ST_CLERK</td><td>2800</td><td> - </td><td>121</td><td>50</td></tr><tr><td>131</td><td>James</td><td>Marlow</td><td>JAMRLOW</td><td>650.124.7234</td><td>16-FEB-05</td><td>ST_CLERK</td><td>2500</td><td> - </td><td>121</td><td>50</td></tr><tr><td>132</td><td>TJ</td><td>Olson</td><td>TJOLSON</td><td>650.124.8234</td><td>10-APR-07</td><td>ST_CLERK</td><td>2100</td><td> - </td><td>121</td><td>50</td></tr><tr><td>133</td><td>Jason</td><td>Mallin</td><td>JMALLIN</td><td>650.127.1934</td><td>14-JUN-04</td><td>ST_CLERK</td><td>3300</td><td> - </td><td>122</td><td>50</td></tr><tr><td>134</td><td>Michael</td><td>Rogers</td><td>MROGERS</td><td>650.127.1834</td><td>26-AUG-06</td><td>ST_CLERK</td><td>2900</td><td> - </td><td>122</td><td>50</td></tr><tr><td>135</td><td>Ki</td><td>Gee</td><td>KGEE</td><td>650.127.1734</td><td>12-DEC-07</td><td>ST_CLERK</td><td>2400</td><td> - </td><td>122</td><td>50</td></tr><tr><td>136</td><td>Hazel</td><td>Philtanker</td><td>HPHILTAN</td><td>650.127.1634</td><td>06-FEB-08</td><td>ST_CLERK</td><td>2200</td><td> - </td><td>122</td><td>50</td></tr><tr><td>137</td><td>Renske</td><td>Ladwig</td><td>RLADWIG</td><td>650.121.1234</td><td>14-JUL-03</td><td>ST_CLERK</td><td>3600</td><td> - </td><td>123</td><td>50</td></tr><tr><td>138</td><td>Stephen</td><td>Stiles</td><td>SSTILES</td><td>650.121.2034</td><td>26-OCT-05</td><td>ST_CLERK</td><td>3200</td><td> - </td><td>123</td><td>50</td></tr><tr><td>139</td><td>John</td><td>Seo</td><td>JSEO</td><td>650.121.2019</td><td>12-FEB-06</td><td>ST_CLERK</td><td>2700</td><td> - </td><td>123</td><td>50</td></tr><tr><td>140</td><td>Joshua</td><td>Patel</td><td>JPATEL</td><td>650.121.1834</td><td>06-APR-06</td><td>ST_CLERK</td><td>2500</td><td> - </td><td>123</td><td>50</td></tr></tbody></table></div>"
      ]
     },
     "metadata": {
      "application/vnd.databricks.v1+output": {
       "addedWidgets": {},
       "aggData": [],
       "aggError": "",
       "aggOverflow": false,
       "aggSchema": [],
       "aggSeriesLimitReached": false,
       "aggType": "",
       "arguments": {},
       "columnCustomDisplayInfos": {},
       "data": [
        [
         198,
         "Donald",
         "OConnell",
         "DOCONNEL",
         "650.507.9833",
         "21-JUN-07",
         "SH_CLERK",
         2600,
         " - ",
         "124",
         50
        ],
        [
         199,
         "Douglas",
         "Grant",
         "DGRANT",
         "650.507.9844",
         "13-JAN-08",
         "SH_CLERK",
         2600,
         " - ",
         "124",
         50
        ],
        [
         200,
         "Jennifer",
         "Whalen",
         "JWHALEN",
         "515.123.4444",
         "17-SEP-03",
         "AD_ASST",
         4400,
         " - ",
         "101",
         10
        ],
        [
         201,
         "Michael",
         "Hartstein",
         "MHARTSTE",
         "515.123.5555",
         "17-FEB-04",
         "MK_MAN",
         13000,
         " - ",
         "100",
         20
        ],
        [
         202,
         "Pat",
         "Fay",
         "PFAY",
         "603.123.6666",
         "17-AUG-05",
         "MK_REP",
         6000,
         " - ",
         "201",
         20
        ],
        [
         203,
         "Susan",
         "Mavris",
         "SMAVRIS",
         "515.123.7777",
         "07-JUN-02",
         "HR_REP",
         6500,
         " - ",
         "101",
         40
        ],
        [
         204,
         "Hermann",
         "Baer",
         "HBAER",
         "515.123.8888",
         "07-JUN-02",
         "PR_REP",
         10000,
         " - ",
         "101",
         70
        ],
        [
         205,
         "Shelley",
         "Higgins",
         "SHIGGINS",
         "515.123.8080",
         "07-JUN-02",
         "AC_MGR",
         12008,
         " - ",
         "101",
         110
        ],
        [
         206,
         "William",
         "Gietz",
         "WGIETZ",
         "515.123.8181",
         "07-JUN-02",
         "AC_ACCOUNT",
         8300,
         " - ",
         "205",
         110
        ],
        [
         100,
         "Steven",
         "King",
         "SKING",
         "515.123.4567",
         "17-JUN-03",
         "AD_PRES",
         24000,
         " - ",
         " - ",
         90
        ],
        [
         101,
         "Neena",
         "Kochhar",
         "NKOCHHAR",
         "515.123.4568",
         "21-SEP-05",
         "AD_VP",
         17000,
         " - ",
         "100",
         90
        ],
        [
         102,
         "Lex",
         "De Haan",
         "LDEHAAN",
         "515.123.4569",
         "13-JAN-01",
         "AD_VP",
         17000,
         " - ",
         "100",
         90
        ],
        [
         103,
         "Alexander",
         "Hunold",
         "AHUNOLD",
         "590.423.4567",
         "03-JAN-06",
         "IT_PROG",
         9000,
         " - ",
         "102",
         60
        ],
        [
         104,
         "Bruce",
         "Ernst",
         "BERNST",
         "590.423.4568",
         "21-MAY-07",
         "IT_PROG",
         6000,
         " - ",
         "103",
         60
        ],
        [
         105,
         "David",
         "Austin",
         "DAUSTIN",
         "590.423.4569",
         "25-JUN-05",
         "IT_PROG",
         4800,
         " - ",
         "103",
         60
        ],
        [
         106,
         "Valli",
         "Pataballa",
         "VPATABAL",
         "590.423.4560",
         "05-FEB-06",
         "IT_PROG",
         4800,
         " - ",
         "103",
         60
        ],
        [
         107,
         "Diana",
         "Lorentz",
         "DLORENTZ",
         "590.423.5567",
         "07-FEB-07",
         "IT_PROG",
         4200,
         " - ",
         "103",
         60
        ],
        [
         108,
         "Nancy",
         "Greenberg",
         "NGREENBE",
         "515.124.4569",
         "17-AUG-02",
         "FI_MGR",
         12008,
         " - ",
         "101",
         100
        ],
        [
         109,
         "Daniel",
         "Faviet",
         "DFAVIET",
         "515.124.4169",
         "16-AUG-02",
         "FI_ACCOUNT",
         9000,
         " - ",
         "108",
         100
        ],
        [
         110,
         "John",
         "Chen",
         "JCHEN",
         "515.124.4269",
         "28-SEP-05",
         "FI_ACCOUNT",
         8200,
         " - ",
         "108",
         100
        ],
        [
         111,
         "Ismael",
         "Sciarra",
         "ISCIARRA",
         "515.124.4369",
         "30-SEP-05",
         "FI_ACCOUNT",
         7700,
         " - ",
         "108",
         100
        ],
        [
         112,
         "Jose Manuel",
         "Urman",
         "JMURMAN",
         "515.124.4469",
         "07-MAR-06",
         "FI_ACCOUNT",
         7800,
         " - ",
         "108",
         100
        ],
        [
         113,
         "Luis",
         "Popp",
         "LPOPP",
         "515.124.4567",
         "07-DEC-07",
         "FI_ACCOUNT",
         6900,
         " - ",
         "108",
         100
        ],
        [
         114,
         "Den",
         "Raphaely",
         "DRAPHEAL",
         "515.127.4561",
         "07-DEC-02",
         "PU_MAN",
         11000,
         " - ",
         "100",
         30
        ],
        [
         115,
         "Alexander",
         "Khoo",
         "AKHOO",
         "515.127.4562",
         "18-MAY-03",
         "PU_CLERK",
         3100,
         " - ",
         "114",
         30
        ],
        [
         116,
         "Shelli",
         "Baida",
         "SBAIDA",
         "515.127.4563",
         "24-DEC-05",
         "PU_CLERK",
         2900,
         " - ",
         "114",
         30
        ],
        [
         117,
         "Sigal",
         "Tobias",
         "STOBIAS",
         "515.127.4564",
         "24-JUL-05",
         "PU_CLERK",
         2800,
         " - ",
         "114",
         30
        ],
        [
         118,
         "Guy",
         "Himuro",
         "GHIMURO",
         "515.127.4565",
         "15-NOV-06",
         "PU_CLERK",
         2600,
         " - ",
         "114",
         30
        ],
        [
         119,
         "Karen",
         "Colmenares",
         "KCOLMENA",
         "515.127.4566",
         "10-AUG-07",
         "PU_CLERK",
         2500,
         " - ",
         "114",
         30
        ],
        [
         120,
         "Matthew",
         "Weiss",
         "MWEISS",
         "650.123.1234",
         "18-JUL-04",
         "ST_MAN",
         8000,
         " - ",
         "100",
         50
        ],
        [
         121,
         "Adam",
         "Fripp",
         "AFRIPP",
         "650.123.2234",
         "10-APR-05",
         "ST_MAN",
         8200,
         " - ",
         "100",
         50
        ],
        [
         122,
         "Payam",
         "Kaufling",
         "PKAUFLIN",
         "650.123.3234",
         "01-MAY-03",
         "ST_MAN",
         7900,
         " - ",
         "100",
         50
        ],
        [
         123,
         "Shanta",
         "Vollman",
         "SVOLLMAN",
         "650.123.4234",
         "10-OCT-05",
         "ST_MAN",
         6500,
         " - ",
         "100",
         50
        ],
        [
         124,
         "Kevin",
         "Mourgos",
         "KMOURGOS",
         "650.123.5234",
         "16-NOV-07",
         "ST_MAN",
         5800,
         " - ",
         "100",
         50
        ],
        [
         125,
         "Julia",
         "Nayer",
         "JNAYER",
         "650.124.1214",
         "16-JUL-05",
         "ST_CLERK",
         3200,
         " - ",
         "120",
         50
        ],
        [
         126,
         "Irene",
         "Mikkilineni",
         "IMIKKILI",
         "650.124.1224",
         "28-SEP-06",
         "ST_CLERK",
         2700,
         " - ",
         "120",
         50
        ],
        [
         127,
         "James",
         "Landry",
         "JLANDRY",
         "650.124.1334",
         "14-JAN-07",
         "ST_CLERK",
         2400,
         " - ",
         "120",
         50
        ],
        [
         128,
         "Steven",
         "Markle",
         "SMARKLE",
         "650.124.1434",
         "08-MAR-08",
         "ST_CLERK",
         2200,
         " - ",
         "120",
         50
        ],
        [
         129,
         "Laura",
         "Bissot",
         "LBISSOT",
         "650.124.5234",
         "20-AUG-05",
         "ST_CLERK",
         3300,
         " - ",
         "121",
         50
        ],
        [
         130,
         "Mozhe",
         "Atkinson",
         "MATKINSO",
         "650.124.6234",
         "30-OCT-05",
         "ST_CLERK",
         2800,
         " - ",
         "121",
         50
        ],
        [
         131,
         "James",
         "Marlow",
         "JAMRLOW",
         "650.124.7234",
         "16-FEB-05",
         "ST_CLERK",
         2500,
         " - ",
         "121",
         50
        ],
        [
         132,
         "TJ",
         "Olson",
         "TJOLSON",
         "650.124.8234",
         "10-APR-07",
         "ST_CLERK",
         2100,
         " - ",
         "121",
         50
        ],
        [
         133,
         "Jason",
         "Mallin",
         "JMALLIN",
         "650.127.1934",
         "14-JUN-04",
         "ST_CLERK",
         3300,
         " - ",
         "122",
         50
        ],
        [
         134,
         "Michael",
         "Rogers",
         "MROGERS",
         "650.127.1834",
         "26-AUG-06",
         "ST_CLERK",
         2900,
         " - ",
         "122",
         50
        ],
        [
         135,
         "Ki",
         "Gee",
         "KGEE",
         "650.127.1734",
         "12-DEC-07",
         "ST_CLERK",
         2400,
         " - ",
         "122",
         50
        ],
        [
         136,
         "Hazel",
         "Philtanker",
         "HPHILTAN",
         "650.127.1634",
         "06-FEB-08",
         "ST_CLERK",
         2200,
         " - ",
         "122",
         50
        ],
        [
         137,
         "Renske",
         "Ladwig",
         "RLADWIG",
         "650.121.1234",
         "14-JUL-03",
         "ST_CLERK",
         3600,
         " - ",
         "123",
         50
        ],
        [
         138,
         "Stephen",
         "Stiles",
         "SSTILES",
         "650.121.2034",
         "26-OCT-05",
         "ST_CLERK",
         3200,
         " - ",
         "123",
         50
        ],
        [
         139,
         "John",
         "Seo",
         "JSEO",
         "650.121.2019",
         "12-FEB-06",
         "ST_CLERK",
         2700,
         " - ",
         "123",
         50
        ],
        [
         140,
         "Joshua",
         "Patel",
         "JPATEL",
         "650.121.1834",
         "06-APR-06",
         "ST_CLERK",
         2500,
         " - ",
         "123",
         50
        ]
       ],
       "datasetInfos": [],
       "dbfsResultPath": null,
       "isJsonSchema": true,
       "metadata": {},
       "overflow": false,
       "plotOptions": {
        "customPlotOptions": {},
        "displayType": "table",
        "pivotAggregation": null,
        "pivotColumns": null,
        "xColumns": null,
        "yColumns": null
       },
       "removedWidgets": [],
       "schema": [
        {
         "metadata": "{}",
         "name": "EMPLOYEE_ID",
         "type": "\"integer\""
        },
        {
         "metadata": "{}",
         "name": "FIRST_NAME",
         "type": "\"string\""
        },
        {
         "metadata": "{}",
         "name": "LAST_NAME",
         "type": "\"string\""
        },
        {
         "metadata": "{}",
         "name": "EMAIL",
         "type": "\"string\""
        },
        {
         "metadata": "{}",
         "name": "PHONE_NUMBER",
         "type": "\"string\""
        },
        {
         "metadata": "{}",
         "name": "HIRE_DATE",
         "type": "\"string\""
        },
        {
         "metadata": "{}",
         "name": "JOB_ID",
         "type": "\"string\""
        },
        {
         "metadata": "{}",
         "name": "SALARY",
         "type": "\"integer\""
        },
        {
         "metadata": "{}",
         "name": "COMMISSION_PCT",
         "type": "\"string\""
        },
        {
         "metadata": "{}",
         "name": "MANAGER_ID",
         "type": "\"string\""
        },
        {
         "metadata": "{}",
         "name": "DEPARTMENT_ID",
         "type": "\"integer\""
        }
       ],
       "type": "table"
      }
     },
     "output_type": "display_data"
    }
   ],
   "source": [
    "# Filter/ where \n",
    "df.display()"
   ]
  },
  {
   "cell_type": "code",
   "execution_count": 0,
   "metadata": {
    "application/vnd.databricks.v1+cell": {
     "cellMetadata": {
      "byteLimit": 2048000,
      "rowLimit": 10000
     },
     "inputWidgets": {},
     "nuid": "89a06089-3167-4491-b041-97175ecda15e",
     "showTitle": false,
     "title": ""
    }
   },
   "outputs": [
    {
     "output_type": "display_data",
     "data": {
      "text/html": [
       "<style scoped>\n",
       "  .table-result-container {\n",
       "    max-height: 300px;\n",
       "    overflow: auto;\n",
       "  }\n",
       "  table, th, td {\n",
       "    border: 1px solid black;\n",
       "    border-collapse: collapse;\n",
       "  }\n",
       "  th, td {\n",
       "    padding: 5px;\n",
       "  }\n",
       "  th {\n",
       "    text-align: left;\n",
       "  }\n",
       "</style><div class='table-result-container'><table class='table-result'><thead style='background-color: white'><tr><th>EMPLOYEE_ID</th><th>FIRST_NAME</th><th>LAST_NAME</th><th>EMAIL</th><th>PHONE_NUMBER</th><th>HIRE_DATE</th><th>JOB_ID</th><th>SALARY</th><th>COMMISSION_PCT</th><th>MANAGER_ID</th><th>DEPARTMENT_ID</th></tr></thead><tbody><tr><td>206</td><td>William</td><td>Gietz</td><td>WGIETZ</td><td>515.123.8181</td><td>07-JUN-02</td><td>AC_ACCOUNT</td><td>8300</td><td> - </td><td>205</td><td>110</td></tr></tbody></table></div>"
      ]
     },
     "metadata": {
      "application/vnd.databricks.v1+output": {
       "addedWidgets": {},
       "aggData": [],
       "aggError": "",
       "aggOverflow": false,
       "aggSchema": [],
       "aggSeriesLimitReached": false,
       "aggType": "",
       "arguments": {},
       "columnCustomDisplayInfos": {},
       "data": [
        [
         206,
         "William",
         "Gietz",
         "WGIETZ",
         "515.123.8181",
         "07-JUN-02",
         "AC_ACCOUNT",
         8300,
         " - ",
         "205",
         110
        ]
       ],
       "datasetInfos": [],
       "dbfsResultPath": null,
       "isJsonSchema": true,
       "metadata": {},
       "overflow": false,
       "plotOptions": {
        "customPlotOptions": {},
        "displayType": "table",
        "pivotAggregation": null,
        "pivotColumns": null,
        "xColumns": null,
        "yColumns": null
       },
       "removedWidgets": [],
       "schema": [
        {
         "metadata": "{}",
         "name": "EMPLOYEE_ID",
         "type": "\"integer\""
        },
        {
         "metadata": "{}",
         "name": "FIRST_NAME",
         "type": "\"string\""
        },
        {
         "metadata": "{}",
         "name": "LAST_NAME",
         "type": "\"string\""
        },
        {
         "metadata": "{}",
         "name": "EMAIL",
         "type": "\"string\""
        },
        {
         "metadata": "{}",
         "name": "PHONE_NUMBER",
         "type": "\"string\""
        },
        {
         "metadata": "{}",
         "name": "HIRE_DATE",
         "type": "\"string\""
        },
        {
         "metadata": "{}",
         "name": "JOB_ID",
         "type": "\"string\""
        },
        {
         "metadata": "{}",
         "name": "SALARY",
         "type": "\"integer\""
        },
        {
         "metadata": "{}",
         "name": "COMMISSION_PCT",
         "type": "\"string\""
        },
        {
         "metadata": "{}",
         "name": "MANAGER_ID",
         "type": "\"string\""
        },
        {
         "metadata": "{}",
         "name": "DEPARTMENT_ID",
         "type": "\"integer\""
        }
       ],
       "type": "table"
      }
     },
     "output_type": "display_data"
    }
   ],
   "source": [
    "df.filter((col(\"salary\") > 3000) & (col(\"employee_id\")> 205)).display()"
   ]
  },
  {
   "cell_type": "code",
   "execution_count": 0,
   "metadata": {
    "application/vnd.databricks.v1+cell": {
     "cellMetadata": {
      "byteLimit": 2048000,
      "rowLimit": 10000
     },
     "inputWidgets": {},
     "nuid": "2874f7dd-067d-41cc-b13a-338dccbba92d",
     "showTitle": false,
     "title": ""
    }
   },
   "outputs": [
    {
     "output_type": "display_data",
     "data": {
      "text/html": [
       "<style scoped>\n",
       "  .table-result-container {\n",
       "    max-height: 300px;\n",
       "    overflow: auto;\n",
       "  }\n",
       "  table, th, td {\n",
       "    border: 1px solid black;\n",
       "    border-collapse: collapse;\n",
       "  }\n",
       "  th, td {\n",
       "    padding: 5px;\n",
       "  }\n",
       "  th {\n",
       "    text-align: left;\n",
       "  }\n",
       "</style><div class='table-result-container'><table class='table-result'><thead style='background-color: white'><tr><th>emp_id</th></tr></thead><tbody><tr><td>198</td></tr><tr><td>199</td></tr><tr><td>200</td></tr><tr><td>201</td></tr><tr><td>202</td></tr><tr><td>203</td></tr><tr><td>204</td></tr><tr><td>205</td></tr><tr><td>206</td></tr><tr><td>100</td></tr><tr><td>101</td></tr><tr><td>102</td></tr><tr><td>103</td></tr><tr><td>104</td></tr><tr><td>105</td></tr><tr><td>106</td></tr><tr><td>107</td></tr><tr><td>108</td></tr><tr><td>109</td></tr><tr><td>110</td></tr><tr><td>111</td></tr><tr><td>112</td></tr><tr><td>113</td></tr><tr><td>114</td></tr><tr><td>115</td></tr><tr><td>116</td></tr><tr><td>117</td></tr><tr><td>118</td></tr><tr><td>119</td></tr><tr><td>120</td></tr><tr><td>121</td></tr><tr><td>122</td></tr><tr><td>123</td></tr><tr><td>124</td></tr><tr><td>125</td></tr><tr><td>126</td></tr><tr><td>127</td></tr><tr><td>128</td></tr><tr><td>129</td></tr><tr><td>130</td></tr><tr><td>131</td></tr><tr><td>132</td></tr><tr><td>133</td></tr><tr><td>134</td></tr><tr><td>135</td></tr><tr><td>136</td></tr><tr><td>137</td></tr><tr><td>138</td></tr><tr><td>139</td></tr><tr><td>140</td></tr></tbody></table></div>"
      ]
     },
     "metadata": {
      "application/vnd.databricks.v1+output": {
       "addedWidgets": {},
       "aggData": [],
       "aggError": "",
       "aggOverflow": false,
       "aggSchema": [],
       "aggSeriesLimitReached": false,
       "aggType": "",
       "arguments": {},
       "columnCustomDisplayInfos": {},
       "data": [
        [
         198
        ],
        [
         199
        ],
        [
         200
        ],
        [
         201
        ],
        [
         202
        ],
        [
         203
        ],
        [
         204
        ],
        [
         205
        ],
        [
         206
        ],
        [
         100
        ],
        [
         101
        ],
        [
         102
        ],
        [
         103
        ],
        [
         104
        ],
        [
         105
        ],
        [
         106
        ],
        [
         107
        ],
        [
         108
        ],
        [
         109
        ],
        [
         110
        ],
        [
         111
        ],
        [
         112
        ],
        [
         113
        ],
        [
         114
        ],
        [
         115
        ],
        [
         116
        ],
        [
         117
        ],
        [
         118
        ],
        [
         119
        ],
        [
         120
        ],
        [
         121
        ],
        [
         122
        ],
        [
         123
        ],
        [
         124
        ],
        [
         125
        ],
        [
         126
        ],
        [
         127
        ],
        [
         128
        ],
        [
         129
        ],
        [
         130
        ],
        [
         131
        ],
        [
         132
        ],
        [
         133
        ],
        [
         134
        ],
        [
         135
        ],
        [
         136
        ],
        [
         137
        ],
        [
         138
        ],
        [
         139
        ],
        [
         140
        ]
       ],
       "datasetInfos": [],
       "dbfsResultPath": null,
       "isJsonSchema": true,
       "metadata": {},
       "overflow": false,
       "plotOptions": {
        "customPlotOptions": {},
        "displayType": "table",
        "pivotAggregation": null,
        "pivotColumns": null,
        "xColumns": null,
        "yColumns": null
       },
       "removedWidgets": [],
       "schema": [
        {
         "metadata": "{}",
         "name": "emp_id",
         "type": "\"integer\""
        }
       ],
       "type": "table"
      }
     },
     "output_type": "display_data"
    }
   ],
   "source": [
    "# aliasing\n",
    "\n",
    "df.select(col(\"employee_id\").alias(\"emp_id\")).display()"
   ]
  },
  {
   "cell_type": "code",
   "execution_count": 0,
   "metadata": {
    "application/vnd.databricks.v1+cell": {
     "cellMetadata": {
      "byteLimit": 2048000,
      "rowLimit": 10000
     },
     "inputWidgets": {},
     "nuid": "6018bfa0-bfaa-40c0-9f57-fae86cfdf733",
     "showTitle": false,
     "title": ""
    }
   },
   "outputs": [],
   "source": [
    "from pyspark.sql.functions import *"
   ]
  },
  {
   "cell_type": "code",
   "execution_count": 0,
   "metadata": {
    "application/vnd.databricks.v1+cell": {
     "cellMetadata": {
      "byteLimit": 2048000,
      "rowLimit": 10000
     },
     "inputWidgets": {},
     "nuid": "2a2032cf-91a8-4fdf-8dbd-d67f4fc701ef",
     "showTitle": false,
     "title": ""
    }
   },
   "outputs": [
    {
     "output_type": "display_data",
     "data": {
      "text/html": [
       "<style scoped>\n",
       "  .table-result-container {\n",
       "    max-height: 300px;\n",
       "    overflow: auto;\n",
       "  }\n",
       "  table, th, td {\n",
       "    border: 1px solid black;\n",
       "    border-collapse: collapse;\n",
       "  }\n",
       "  th, td {\n",
       "    padding: 5px;\n",
       "  }\n",
       "  th {\n",
       "    text-align: left;\n",
       "  }\n",
       "</style><div class='table-result-container'><table class='table-result'><thead style='background-color: white'><tr><th>EMPLOYEE_ID</th><th>FIRST_NAME</th><th>LAST_NAME</th><th>EMAIL</th><th>PHONE_NUMBER</th><th>HIRE_DATE</th><th>JOB_ID</th><th>SALARY</th><th>COMMISSION_PCT</th><th>MANAGER_ID</th><th>DEPARTMENT_ID</th><th>FULL_NAME</th></tr></thead><tbody><tr><td>198</td><td>Donald</td><td>OConnell</td><td>DOCONNEL</td><td>650.507.9833</td><td>21-JUN-07</td><td>SH_CLERK</td><td>2600</td><td> - </td><td>124</td><td>50</td><td>DonaldOConnell</td></tr><tr><td>199</td><td>Douglas</td><td>Grant</td><td>DGRANT</td><td>650.507.9844</td><td>13-JAN-08</td><td>SH_CLERK</td><td>2600</td><td> - </td><td>124</td><td>50</td><td>DouglasGrant</td></tr><tr><td>200</td><td>Jennifer</td><td>Whalen</td><td>JWHALEN</td><td>515.123.4444</td><td>17-SEP-03</td><td>AD_ASST</td><td>4400</td><td> - </td><td>101</td><td>10</td><td>JenniferWhalen</td></tr><tr><td>201</td><td>Michael</td><td>Hartstein</td><td>MHARTSTE</td><td>515.123.5555</td><td>17-FEB-04</td><td>MK_MAN</td><td>13000</td><td> - </td><td>100</td><td>20</td><td>MichaelHartstein</td></tr><tr><td>202</td><td>Pat</td><td>Fay</td><td>PFAY</td><td>603.123.6666</td><td>17-AUG-05</td><td>MK_REP</td><td>6000</td><td> - </td><td>201</td><td>20</td><td>PatFay</td></tr><tr><td>203</td><td>Susan</td><td>Mavris</td><td>SMAVRIS</td><td>515.123.7777</td><td>07-JUN-02</td><td>HR_REP</td><td>6500</td><td> - </td><td>101</td><td>40</td><td>SusanMavris</td></tr><tr><td>204</td><td>Hermann</td><td>Baer</td><td>HBAER</td><td>515.123.8888</td><td>07-JUN-02</td><td>PR_REP</td><td>10000</td><td> - </td><td>101</td><td>70</td><td>HermannBaer</td></tr><tr><td>205</td><td>Shelley</td><td>Higgins</td><td>SHIGGINS</td><td>515.123.8080</td><td>07-JUN-02</td><td>AC_MGR</td><td>12008</td><td> - </td><td>101</td><td>110</td><td>ShelleyHiggins</td></tr><tr><td>206</td><td>William</td><td>Gietz</td><td>WGIETZ</td><td>515.123.8181</td><td>07-JUN-02</td><td>AC_ACCOUNT</td><td>8300</td><td> - </td><td>205</td><td>110</td><td>WilliamGietz</td></tr><tr><td>100</td><td>Steven</td><td>King</td><td>SKING</td><td>515.123.4567</td><td>17-JUN-03</td><td>AD_PRES</td><td>24000</td><td> - </td><td> - </td><td>90</td><td>StevenKing</td></tr><tr><td>101</td><td>Neena</td><td>Kochhar</td><td>NKOCHHAR</td><td>515.123.4568</td><td>21-SEP-05</td><td>AD_VP</td><td>17000</td><td> - </td><td>100</td><td>90</td><td>NeenaKochhar</td></tr><tr><td>102</td><td>Lex</td><td>De Haan</td><td>LDEHAAN</td><td>515.123.4569</td><td>13-JAN-01</td><td>AD_VP</td><td>17000</td><td> - </td><td>100</td><td>90</td><td>LexDe Haan</td></tr><tr><td>103</td><td>Alexander</td><td>Hunold</td><td>AHUNOLD</td><td>590.423.4567</td><td>03-JAN-06</td><td>IT_PROG</td><td>9000</td><td> - </td><td>102</td><td>60</td><td>AlexanderHunold</td></tr><tr><td>104</td><td>Bruce</td><td>Ernst</td><td>BERNST</td><td>590.423.4568</td><td>21-MAY-07</td><td>IT_PROG</td><td>6000</td><td> - </td><td>103</td><td>60</td><td>BruceErnst</td></tr><tr><td>105</td><td>David</td><td>Austin</td><td>DAUSTIN</td><td>590.423.4569</td><td>25-JUN-05</td><td>IT_PROG</td><td>4800</td><td> - </td><td>103</td><td>60</td><td>DavidAustin</td></tr><tr><td>106</td><td>Valli</td><td>Pataballa</td><td>VPATABAL</td><td>590.423.4560</td><td>05-FEB-06</td><td>IT_PROG</td><td>4800</td><td> - </td><td>103</td><td>60</td><td>ValliPataballa</td></tr><tr><td>107</td><td>Diana</td><td>Lorentz</td><td>DLORENTZ</td><td>590.423.5567</td><td>07-FEB-07</td><td>IT_PROG</td><td>4200</td><td> - </td><td>103</td><td>60</td><td>DianaLorentz</td></tr><tr><td>108</td><td>Nancy</td><td>Greenberg</td><td>NGREENBE</td><td>515.124.4569</td><td>17-AUG-02</td><td>FI_MGR</td><td>12008</td><td> - </td><td>101</td><td>100</td><td>NancyGreenberg</td></tr><tr><td>109</td><td>Daniel</td><td>Faviet</td><td>DFAVIET</td><td>515.124.4169</td><td>16-AUG-02</td><td>FI_ACCOUNT</td><td>9000</td><td> - </td><td>108</td><td>100</td><td>DanielFaviet</td></tr><tr><td>110</td><td>John</td><td>Chen</td><td>JCHEN</td><td>515.124.4269</td><td>28-SEP-05</td><td>FI_ACCOUNT</td><td>8200</td><td> - </td><td>108</td><td>100</td><td>JohnChen</td></tr><tr><td>111</td><td>Ismael</td><td>Sciarra</td><td>ISCIARRA</td><td>515.124.4369</td><td>30-SEP-05</td><td>FI_ACCOUNT</td><td>7700</td><td> - </td><td>108</td><td>100</td><td>IsmaelSciarra</td></tr><tr><td>112</td><td>Jose Manuel</td><td>Urman</td><td>JMURMAN</td><td>515.124.4469</td><td>07-MAR-06</td><td>FI_ACCOUNT</td><td>7800</td><td> - </td><td>108</td><td>100</td><td>Jose ManuelUrman</td></tr><tr><td>113</td><td>Luis</td><td>Popp</td><td>LPOPP</td><td>515.124.4567</td><td>07-DEC-07</td><td>FI_ACCOUNT</td><td>6900</td><td> - </td><td>108</td><td>100</td><td>LuisPopp</td></tr><tr><td>114</td><td>Den</td><td>Raphaely</td><td>DRAPHEAL</td><td>515.127.4561</td><td>07-DEC-02</td><td>PU_MAN</td><td>11000</td><td> - </td><td>100</td><td>30</td><td>DenRaphaely</td></tr><tr><td>115</td><td>Alexander</td><td>Khoo</td><td>AKHOO</td><td>515.127.4562</td><td>18-MAY-03</td><td>PU_CLERK</td><td>3100</td><td> - </td><td>114</td><td>30</td><td>AlexanderKhoo</td></tr><tr><td>116</td><td>Shelli</td><td>Baida</td><td>SBAIDA</td><td>515.127.4563</td><td>24-DEC-05</td><td>PU_CLERK</td><td>2900</td><td> - </td><td>114</td><td>30</td><td>ShelliBaida</td></tr><tr><td>117</td><td>Sigal</td><td>Tobias</td><td>STOBIAS</td><td>515.127.4564</td><td>24-JUL-05</td><td>PU_CLERK</td><td>2800</td><td> - </td><td>114</td><td>30</td><td>SigalTobias</td></tr><tr><td>118</td><td>Guy</td><td>Himuro</td><td>GHIMURO</td><td>515.127.4565</td><td>15-NOV-06</td><td>PU_CLERK</td><td>2600</td><td> - </td><td>114</td><td>30</td><td>GuyHimuro</td></tr><tr><td>119</td><td>Karen</td><td>Colmenares</td><td>KCOLMENA</td><td>515.127.4566</td><td>10-AUG-07</td><td>PU_CLERK</td><td>2500</td><td> - </td><td>114</td><td>30</td><td>KarenColmenares</td></tr><tr><td>120</td><td>Matthew</td><td>Weiss</td><td>MWEISS</td><td>650.123.1234</td><td>18-JUL-04</td><td>ST_MAN</td><td>8000</td><td> - </td><td>100</td><td>50</td><td>MatthewWeiss</td></tr><tr><td>121</td><td>Adam</td><td>Fripp</td><td>AFRIPP</td><td>650.123.2234</td><td>10-APR-05</td><td>ST_MAN</td><td>8200</td><td> - </td><td>100</td><td>50</td><td>AdamFripp</td></tr><tr><td>122</td><td>Payam</td><td>Kaufling</td><td>PKAUFLIN</td><td>650.123.3234</td><td>01-MAY-03</td><td>ST_MAN</td><td>7900</td><td> - </td><td>100</td><td>50</td><td>PayamKaufling</td></tr><tr><td>123</td><td>Shanta</td><td>Vollman</td><td>SVOLLMAN</td><td>650.123.4234</td><td>10-OCT-05</td><td>ST_MAN</td><td>6500</td><td> - </td><td>100</td><td>50</td><td>ShantaVollman</td></tr><tr><td>124</td><td>Kevin</td><td>Mourgos</td><td>KMOURGOS</td><td>650.123.5234</td><td>16-NOV-07</td><td>ST_MAN</td><td>5800</td><td> - </td><td>100</td><td>50</td><td>KevinMourgos</td></tr><tr><td>125</td><td>Julia</td><td>Nayer</td><td>JNAYER</td><td>650.124.1214</td><td>16-JUL-05</td><td>ST_CLERK</td><td>3200</td><td> - </td><td>120</td><td>50</td><td>JuliaNayer</td></tr><tr><td>126</td><td>Irene</td><td>Mikkilineni</td><td>IMIKKILI</td><td>650.124.1224</td><td>28-SEP-06</td><td>ST_CLERK</td><td>2700</td><td> - </td><td>120</td><td>50</td><td>IreneMikkilineni</td></tr><tr><td>127</td><td>James</td><td>Landry</td><td>JLANDRY</td><td>650.124.1334</td><td>14-JAN-07</td><td>ST_CLERK</td><td>2400</td><td> - </td><td>120</td><td>50</td><td>JamesLandry</td></tr><tr><td>128</td><td>Steven</td><td>Markle</td><td>SMARKLE</td><td>650.124.1434</td><td>08-MAR-08</td><td>ST_CLERK</td><td>2200</td><td> - </td><td>120</td><td>50</td><td>StevenMarkle</td></tr><tr><td>129</td><td>Laura</td><td>Bissot</td><td>LBISSOT</td><td>650.124.5234</td><td>20-AUG-05</td><td>ST_CLERK</td><td>3300</td><td> - </td><td>121</td><td>50</td><td>LauraBissot</td></tr><tr><td>130</td><td>Mozhe</td><td>Atkinson</td><td>MATKINSO</td><td>650.124.6234</td><td>30-OCT-05</td><td>ST_CLERK</td><td>2800</td><td> - </td><td>121</td><td>50</td><td>MozheAtkinson</td></tr><tr><td>131</td><td>James</td><td>Marlow</td><td>JAMRLOW</td><td>650.124.7234</td><td>16-FEB-05</td><td>ST_CLERK</td><td>2500</td><td> - </td><td>121</td><td>50</td><td>JamesMarlow</td></tr><tr><td>132</td><td>TJ</td><td>Olson</td><td>TJOLSON</td><td>650.124.8234</td><td>10-APR-07</td><td>ST_CLERK</td><td>2100</td><td> - </td><td>121</td><td>50</td><td>TJOlson</td></tr><tr><td>133</td><td>Jason</td><td>Mallin</td><td>JMALLIN</td><td>650.127.1934</td><td>14-JUN-04</td><td>ST_CLERK</td><td>3300</td><td> - </td><td>122</td><td>50</td><td>JasonMallin</td></tr><tr><td>134</td><td>Michael</td><td>Rogers</td><td>MROGERS</td><td>650.127.1834</td><td>26-AUG-06</td><td>ST_CLERK</td><td>2900</td><td> - </td><td>122</td><td>50</td><td>MichaelRogers</td></tr><tr><td>135</td><td>Ki</td><td>Gee</td><td>KGEE</td><td>650.127.1734</td><td>12-DEC-07</td><td>ST_CLERK</td><td>2400</td><td> - </td><td>122</td><td>50</td><td>KiGee</td></tr><tr><td>136</td><td>Hazel</td><td>Philtanker</td><td>HPHILTAN</td><td>650.127.1634</td><td>06-FEB-08</td><td>ST_CLERK</td><td>2200</td><td> - </td><td>122</td><td>50</td><td>HazelPhiltanker</td></tr><tr><td>137</td><td>Renske</td><td>Ladwig</td><td>RLADWIG</td><td>650.121.1234</td><td>14-JUL-03</td><td>ST_CLERK</td><td>3600</td><td> - </td><td>123</td><td>50</td><td>RenskeLadwig</td></tr><tr><td>138</td><td>Stephen</td><td>Stiles</td><td>SSTILES</td><td>650.121.2034</td><td>26-OCT-05</td><td>ST_CLERK</td><td>3200</td><td> - </td><td>123</td><td>50</td><td>StephenStiles</td></tr><tr><td>139</td><td>John</td><td>Seo</td><td>JSEO</td><td>650.121.2019</td><td>12-FEB-06</td><td>ST_CLERK</td><td>2700</td><td> - </td><td>123</td><td>50</td><td>JohnSeo</td></tr><tr><td>140</td><td>Joshua</td><td>Patel</td><td>JPATEL</td><td>650.121.1834</td><td>06-APR-06</td><td>ST_CLERK</td><td>2500</td><td> - </td><td>123</td><td>50</td><td>JoshuaPatel</td></tr></tbody></table></div>"
      ]
     },
     "metadata": {
      "application/vnd.databricks.v1+output": {
       "addedWidgets": {},
       "aggData": [],
       "aggError": "",
       "aggOverflow": false,
       "aggSchema": [],
       "aggSeriesLimitReached": false,
       "aggType": "",
       "arguments": {},
       "columnCustomDisplayInfos": {},
       "data": [
        [
         198,
         "Donald",
         "OConnell",
         "DOCONNEL",
         "650.507.9833",
         "21-JUN-07",
         "SH_CLERK",
         2600,
         " - ",
         "124",
         50,
         "DonaldOConnell"
        ],
        [
         199,
         "Douglas",
         "Grant",
         "DGRANT",
         "650.507.9844",
         "13-JAN-08",
         "SH_CLERK",
         2600,
         " - ",
         "124",
         50,
         "DouglasGrant"
        ],
        [
         200,
         "Jennifer",
         "Whalen",
         "JWHALEN",
         "515.123.4444",
         "17-SEP-03",
         "AD_ASST",
         4400,
         " - ",
         "101",
         10,
         "JenniferWhalen"
        ],
        [
         201,
         "Michael",
         "Hartstein",
         "MHARTSTE",
         "515.123.5555",
         "17-FEB-04",
         "MK_MAN",
         13000,
         " - ",
         "100",
         20,
         "MichaelHartstein"
        ],
        [
         202,
         "Pat",
         "Fay",
         "PFAY",
         "603.123.6666",
         "17-AUG-05",
         "MK_REP",
         6000,
         " - ",
         "201",
         20,
         "PatFay"
        ],
        [
         203,
         "Susan",
         "Mavris",
         "SMAVRIS",
         "515.123.7777",
         "07-JUN-02",
         "HR_REP",
         6500,
         " - ",
         "101",
         40,
         "SusanMavris"
        ],
        [
         204,
         "Hermann",
         "Baer",
         "HBAER",
         "515.123.8888",
         "07-JUN-02",
         "PR_REP",
         10000,
         " - ",
         "101",
         70,
         "HermannBaer"
        ],
        [
         205,
         "Shelley",
         "Higgins",
         "SHIGGINS",
         "515.123.8080",
         "07-JUN-02",
         "AC_MGR",
         12008,
         " - ",
         "101",
         110,
         "ShelleyHiggins"
        ],
        [
         206,
         "William",
         "Gietz",
         "WGIETZ",
         "515.123.8181",
         "07-JUN-02",
         "AC_ACCOUNT",
         8300,
         " - ",
         "205",
         110,
         "WilliamGietz"
        ],
        [
         100,
         "Steven",
         "King",
         "SKING",
         "515.123.4567",
         "17-JUN-03",
         "AD_PRES",
         24000,
         " - ",
         " - ",
         90,
         "StevenKing"
        ],
        [
         101,
         "Neena",
         "Kochhar",
         "NKOCHHAR",
         "515.123.4568",
         "21-SEP-05",
         "AD_VP",
         17000,
         " - ",
         "100",
         90,
         "NeenaKochhar"
        ],
        [
         102,
         "Lex",
         "De Haan",
         "LDEHAAN",
         "515.123.4569",
         "13-JAN-01",
         "AD_VP",
         17000,
         " - ",
         "100",
         90,
         "LexDe Haan"
        ],
        [
         103,
         "Alexander",
         "Hunold",
         "AHUNOLD",
         "590.423.4567",
         "03-JAN-06",
         "IT_PROG",
         9000,
         " - ",
         "102",
         60,
         "AlexanderHunold"
        ],
        [
         104,
         "Bruce",
         "Ernst",
         "BERNST",
         "590.423.4568",
         "21-MAY-07",
         "IT_PROG",
         6000,
         " - ",
         "103",
         60,
         "BruceErnst"
        ],
        [
         105,
         "David",
         "Austin",
         "DAUSTIN",
         "590.423.4569",
         "25-JUN-05",
         "IT_PROG",
         4800,
         " - ",
         "103",
         60,
         "DavidAustin"
        ],
        [
         106,
         "Valli",
         "Pataballa",
         "VPATABAL",
         "590.423.4560",
         "05-FEB-06",
         "IT_PROG",
         4800,
         " - ",
         "103",
         60,
         "ValliPataballa"
        ],
        [
         107,
         "Diana",
         "Lorentz",
         "DLORENTZ",
         "590.423.5567",
         "07-FEB-07",
         "IT_PROG",
         4200,
         " - ",
         "103",
         60,
         "DianaLorentz"
        ],
        [
         108,
         "Nancy",
         "Greenberg",
         "NGREENBE",
         "515.124.4569",
         "17-AUG-02",
         "FI_MGR",
         12008,
         " - ",
         "101",
         100,
         "NancyGreenberg"
        ],
        [
         109,
         "Daniel",
         "Faviet",
         "DFAVIET",
         "515.124.4169",
         "16-AUG-02",
         "FI_ACCOUNT",
         9000,
         " - ",
         "108",
         100,
         "DanielFaviet"
        ],
        [
         110,
         "John",
         "Chen",
         "JCHEN",
         "515.124.4269",
         "28-SEP-05",
         "FI_ACCOUNT",
         8200,
         " - ",
         "108",
         100,
         "JohnChen"
        ],
        [
         111,
         "Ismael",
         "Sciarra",
         "ISCIARRA",
         "515.124.4369",
         "30-SEP-05",
         "FI_ACCOUNT",
         7700,
         " - ",
         "108",
         100,
         "IsmaelSciarra"
        ],
        [
         112,
         "Jose Manuel",
         "Urman",
         "JMURMAN",
         "515.124.4469",
         "07-MAR-06",
         "FI_ACCOUNT",
         7800,
         " - ",
         "108",
         100,
         "Jose ManuelUrman"
        ],
        [
         113,
         "Luis",
         "Popp",
         "LPOPP",
         "515.124.4567",
         "07-DEC-07",
         "FI_ACCOUNT",
         6900,
         " - ",
         "108",
         100,
         "LuisPopp"
        ],
        [
         114,
         "Den",
         "Raphaely",
         "DRAPHEAL",
         "515.127.4561",
         "07-DEC-02",
         "PU_MAN",
         11000,
         " - ",
         "100",
         30,
         "DenRaphaely"
        ],
        [
         115,
         "Alexander",
         "Khoo",
         "AKHOO",
         "515.127.4562",
         "18-MAY-03",
         "PU_CLERK",
         3100,
         " - ",
         "114",
         30,
         "AlexanderKhoo"
        ],
        [
         116,
         "Shelli",
         "Baida",
         "SBAIDA",
         "515.127.4563",
         "24-DEC-05",
         "PU_CLERK",
         2900,
         " - ",
         "114",
         30,
         "ShelliBaida"
        ],
        [
         117,
         "Sigal",
         "Tobias",
         "STOBIAS",
         "515.127.4564",
         "24-JUL-05",
         "PU_CLERK",
         2800,
         " - ",
         "114",
         30,
         "SigalTobias"
        ],
        [
         118,
         "Guy",
         "Himuro",
         "GHIMURO",
         "515.127.4565",
         "15-NOV-06",
         "PU_CLERK",
         2600,
         " - ",
         "114",
         30,
         "GuyHimuro"
        ],
        [
         119,
         "Karen",
         "Colmenares",
         "KCOLMENA",
         "515.127.4566",
         "10-AUG-07",
         "PU_CLERK",
         2500,
         " - ",
         "114",
         30,
         "KarenColmenares"
        ],
        [
         120,
         "Matthew",
         "Weiss",
         "MWEISS",
         "650.123.1234",
         "18-JUL-04",
         "ST_MAN",
         8000,
         " - ",
         "100",
         50,
         "MatthewWeiss"
        ],
        [
         121,
         "Adam",
         "Fripp",
         "AFRIPP",
         "650.123.2234",
         "10-APR-05",
         "ST_MAN",
         8200,
         " - ",
         "100",
         50,
         "AdamFripp"
        ],
        [
         122,
         "Payam",
         "Kaufling",
         "PKAUFLIN",
         "650.123.3234",
         "01-MAY-03",
         "ST_MAN",
         7900,
         " - ",
         "100",
         50,
         "PayamKaufling"
        ],
        [
         123,
         "Shanta",
         "Vollman",
         "SVOLLMAN",
         "650.123.4234",
         "10-OCT-05",
         "ST_MAN",
         6500,
         " - ",
         "100",
         50,
         "ShantaVollman"
        ],
        [
         124,
         "Kevin",
         "Mourgos",
         "KMOURGOS",
         "650.123.5234",
         "16-NOV-07",
         "ST_MAN",
         5800,
         " - ",
         "100",
         50,
         "KevinMourgos"
        ],
        [
         125,
         "Julia",
         "Nayer",
         "JNAYER",
         "650.124.1214",
         "16-JUL-05",
         "ST_CLERK",
         3200,
         " - ",
         "120",
         50,
         "JuliaNayer"
        ],
        [
         126,
         "Irene",
         "Mikkilineni",
         "IMIKKILI",
         "650.124.1224",
         "28-SEP-06",
         "ST_CLERK",
         2700,
         " - ",
         "120",
         50,
         "IreneMikkilineni"
        ],
        [
         127,
         "James",
         "Landry",
         "JLANDRY",
         "650.124.1334",
         "14-JAN-07",
         "ST_CLERK",
         2400,
         " - ",
         "120",
         50,
         "JamesLandry"
        ],
        [
         128,
         "Steven",
         "Markle",
         "SMARKLE",
         "650.124.1434",
         "08-MAR-08",
         "ST_CLERK",
         2200,
         " - ",
         "120",
         50,
         "StevenMarkle"
        ],
        [
         129,
         "Laura",
         "Bissot",
         "LBISSOT",
         "650.124.5234",
         "20-AUG-05",
         "ST_CLERK",
         3300,
         " - ",
         "121",
         50,
         "LauraBissot"
        ],
        [
         130,
         "Mozhe",
         "Atkinson",
         "MATKINSO",
         "650.124.6234",
         "30-OCT-05",
         "ST_CLERK",
         2800,
         " - ",
         "121",
         50,
         "MozheAtkinson"
        ],
        [
         131,
         "James",
         "Marlow",
         "JAMRLOW",
         "650.124.7234",
         "16-FEB-05",
         "ST_CLERK",
         2500,
         " - ",
         "121",
         50,
         "JamesMarlow"
        ],
        [
         132,
         "TJ",
         "Olson",
         "TJOLSON",
         "650.124.8234",
         "10-APR-07",
         "ST_CLERK",
         2100,
         " - ",
         "121",
         50,
         "TJOlson"
        ],
        [
         133,
         "Jason",
         "Mallin",
         "JMALLIN",
         "650.127.1934",
         "14-JUN-04",
         "ST_CLERK",
         3300,
         " - ",
         "122",
         50,
         "JasonMallin"
        ],
        [
         134,
         "Michael",
         "Rogers",
         "MROGERS",
         "650.127.1834",
         "26-AUG-06",
         "ST_CLERK",
         2900,
         " - ",
         "122",
         50,
         "MichaelRogers"
        ],
        [
         135,
         "Ki",
         "Gee",
         "KGEE",
         "650.127.1734",
         "12-DEC-07",
         "ST_CLERK",
         2400,
         " - ",
         "122",
         50,
         "KiGee"
        ],
        [
         136,
         "Hazel",
         "Philtanker",
         "HPHILTAN",
         "650.127.1634",
         "06-FEB-08",
         "ST_CLERK",
         2200,
         " - ",
         "122",
         50,
         "HazelPhiltanker"
        ],
        [
         137,
         "Renske",
         "Ladwig",
         "RLADWIG",
         "650.121.1234",
         "14-JUL-03",
         "ST_CLERK",
         3600,
         " - ",
         "123",
         50,
         "RenskeLadwig"
        ],
        [
         138,
         "Stephen",
         "Stiles",
         "SSTILES",
         "650.121.2034",
         "26-OCT-05",
         "ST_CLERK",
         3200,
         " - ",
         "123",
         50,
         "StephenStiles"
        ],
        [
         139,
         "John",
         "Seo",
         "JSEO",
         "650.121.2019",
         "12-FEB-06",
         "ST_CLERK",
         2700,
         " - ",
         "123",
         50,
         "JohnSeo"
        ],
        [
         140,
         "Joshua",
         "Patel",
         "JPATEL",
         "650.121.1834",
         "06-APR-06",
         "ST_CLERK",
         2500,
         " - ",
         "123",
         50,
         "JoshuaPatel"
        ]
       ],
       "datasetInfos": [],
       "dbfsResultPath": null,
       "isJsonSchema": true,
       "metadata": {},
       "overflow": false,
       "plotOptions": {
        "customPlotOptions": {},
        "displayType": "table",
        "pivotAggregation": null,
        "pivotColumns": null,
        "xColumns": null,
        "yColumns": null
       },
       "removedWidgets": [],
       "schema": [
        {
         "metadata": "{}",
         "name": "EMPLOYEE_ID",
         "type": "\"integer\""
        },
        {
         "metadata": "{}",
         "name": "FIRST_NAME",
         "type": "\"string\""
        },
        {
         "metadata": "{}",
         "name": "LAST_NAME",
         "type": "\"string\""
        },
        {
         "metadata": "{}",
         "name": "EMAIL",
         "type": "\"string\""
        },
        {
         "metadata": "{}",
         "name": "PHONE_NUMBER",
         "type": "\"string\""
        },
        {
         "metadata": "{}",
         "name": "HIRE_DATE",
         "type": "\"string\""
        },
        {
         "metadata": "{}",
         "name": "JOB_ID",
         "type": "\"string\""
        },
        {
         "metadata": "{}",
         "name": "SALARY",
         "type": "\"integer\""
        },
        {
         "metadata": "{}",
         "name": "COMMISSION_PCT",
         "type": "\"string\""
        },
        {
         "metadata": "{}",
         "name": "MANAGER_ID",
         "type": "\"string\""
        },
        {
         "metadata": "{}",
         "name": "DEPARTMENT_ID",
         "type": "\"integer\""
        },
        {
         "metadata": "{}",
         "name": "FULL_NAME",
         "type": "\"string\""
        }
       ],
       "type": "table"
      }
     },
     "output_type": "display_data"
    }
   ],
   "source": [
    "# column add, col rename, \n",
    "df.withColumn(\"FULL_NAME\",concat(col(\"first_name\"),col(\"last_name\"))).display()"
   ]
  },
  {
   "cell_type": "code",
   "execution_count": 0,
   "metadata": {
    "application/vnd.databricks.v1+cell": {
     "cellMetadata": {
      "byteLimit": 2048000,
      "rowLimit": 10000
     },
     "inputWidgets": {},
     "nuid": "4d3e0f97-2fab-464f-af09-092465678828",
     "showTitle": false,
     "title": ""
    }
   },
   "outputs": [
    {
     "output_type": "stream",
     "name": "stdout",
     "output_type": "stream",
     "text": [
      "+-----------+----------+---------+--------+------------+---------+----------+------+--------------+----------+-------------+\n|EMPLOYEE_ID|FIRST_NAME|LAST_NAME|   EMAIL|PHONE_NUMBER|HIRE_DATE|    JOB_ID|SALARY|COMMISSION_PCT|MANAGER_ID|DEPARTMENT_ID|\n+-----------+----------+---------+--------+------------+---------+----------+------+--------------+----------+-------------+\n|        198|    DONALD| OConnell|DOCONNEL|650.507.9833|21-JUN-07|  SH_CLERK|  2600|            - |       124|           50|\n|        199|   DOUGLAS|    Grant|  DGRANT|650.507.9844|13-JAN-08|  SH_CLERK|  2600|            - |       124|           50|\n|        200|  JENNIFER|   Whalen| JWHALEN|515.123.4444|17-SEP-03|   AD_ASST|  4400|            - |       101|           10|\n|        201|   MICHAEL|Hartstein|MHARTSTE|515.123.5555|17-FEB-04|    MK_MAN| 13000|            - |       100|           20|\n|        202|       PAT|      Fay|    PFAY|603.123.6666|17-AUG-05|    MK_REP|  6000|            - |       201|           20|\n|        203|     SUSAN|   Mavris| SMAVRIS|515.123.7777|07-JUN-02|    HR_REP|  6500|            - |       101|           40|\n|        204|   HERMANN|     Baer|   HBAER|515.123.8888|07-JUN-02|    PR_REP| 10000|            - |       101|           70|\n|        205|   SHELLEY|  Higgins|SHIGGINS|515.123.8080|07-JUN-02|    AC_MGR| 12008|            - |       101|          110|\n|        206|   WILLIAM|    Gietz|  WGIETZ|515.123.8181|07-JUN-02|AC_ACCOUNT|  8300|            - |       205|          110|\n|        100|    STEVEN|     King|   SKING|515.123.4567|17-JUN-03|   AD_PRES| 24000|            - |        - |           90|\n|        101|     NEENA|  Kochhar|NKOCHHAR|515.123.4568|21-SEP-05|     AD_VP| 17000|            - |       100|           90|\n|        102|       LEX|  De Haan| LDEHAAN|515.123.4569|13-JAN-01|     AD_VP| 17000|            - |       100|           90|\n|        103| ALEXANDER|   Hunold| AHUNOLD|590.423.4567|03-JAN-06|   IT_PROG|  9000|            - |       102|           60|\n|        104|     BRUCE|    Ernst|  BERNST|590.423.4568|21-MAY-07|   IT_PROG|  6000|            - |       103|           60|\n|        105|     DAVID|   Austin| DAUSTIN|590.423.4569|25-JUN-05|   IT_PROG|  4800|            - |       103|           60|\n|        106|     VALLI|Pataballa|VPATABAL|590.423.4560|05-FEB-06|   IT_PROG|  4800|            - |       103|           60|\n|        107|     DIANA|  Lorentz|DLORENTZ|590.423.5567|07-FEB-07|   IT_PROG|  4200|            - |       103|           60|\n|        108|     NANCY|Greenberg|NGREENBE|515.124.4569|17-AUG-02|    FI_MGR| 12008|            - |       101|          100|\n|        109|    DANIEL|   Faviet| DFAVIET|515.124.4169|16-AUG-02|FI_ACCOUNT|  9000|            - |       108|          100|\n|        110|      JOHN|     Chen|   JCHEN|515.124.4269|28-SEP-05|FI_ACCOUNT|  8200|            - |       108|          100|\n+-----------+----------+---------+--------+------------+---------+----------+------+--------------+----------+-------------+\nonly showing top 20 rows\n\n"
     ]
    }
   ],
   "source": [
    "df.withColumn(\"FIRST_NAME\",upper(col(\"first_name\"))).show()"
   ]
  },
  {
   "cell_type": "code",
   "execution_count": 0,
   "metadata": {
    "application/vnd.databricks.v1+cell": {
     "cellMetadata": {
      "byteLimit": 2048000,
      "rowLimit": 10000
     },
     "inputWidgets": {},
     "nuid": "2b8ad055-a36d-4481-9a91-589f0160b9f4",
     "showTitle": false,
     "title": ""
    }
   },
   "outputs": [
    {
     "output_type": "stream",
     "name": "stdout",
     "output_type": "stream",
     "text": [
      "+------+----------+---------+--------+------------+---------+----------+------+--------------+----------+-------------+\n|EMP_ID|FIRST_NAME|LAST_NAME|   EMAIL|PHONE_NUMBER|HIRE_DATE|    JOB_ID|SALARY|COMMISSION_PCT|MANAGER_ID|DEPARTMENT_ID|\n+------+----------+---------+--------+------------+---------+----------+------+--------------+----------+-------------+\n|   198|    Donald| OConnell|DOCONNEL|650.507.9833|21-JUN-07|  SH_CLERK|  2600|            - |       124|           50|\n|   199|   Douglas|    Grant|  DGRANT|650.507.9844|13-JAN-08|  SH_CLERK|  2600|            - |       124|           50|\n|   200|  Jennifer|   Whalen| JWHALEN|515.123.4444|17-SEP-03|   AD_ASST|  4400|            - |       101|           10|\n|   201|   Michael|Hartstein|MHARTSTE|515.123.5555|17-FEB-04|    MK_MAN| 13000|            - |       100|           20|\n|   202|       Pat|      Fay|    PFAY|603.123.6666|17-AUG-05|    MK_REP|  6000|            - |       201|           20|\n|   203|     Susan|   Mavris| SMAVRIS|515.123.7777|07-JUN-02|    HR_REP|  6500|            - |       101|           40|\n|   204|   Hermann|     Baer|   HBAER|515.123.8888|07-JUN-02|    PR_REP| 10000|            - |       101|           70|\n|   205|   Shelley|  Higgins|SHIGGINS|515.123.8080|07-JUN-02|    AC_MGR| 12008|            - |       101|          110|\n|   206|   William|    Gietz|  WGIETZ|515.123.8181|07-JUN-02|AC_ACCOUNT|  8300|            - |       205|          110|\n|   100|    Steven|     King|   SKING|515.123.4567|17-JUN-03|   AD_PRES| 24000|            - |        - |           90|\n|   101|     Neena|  Kochhar|NKOCHHAR|515.123.4568|21-SEP-05|     AD_VP| 17000|            - |       100|           90|\n|   102|       Lex|  De Haan| LDEHAAN|515.123.4569|13-JAN-01|     AD_VP| 17000|            - |       100|           90|\n|   103| Alexander|   Hunold| AHUNOLD|590.423.4567|03-JAN-06|   IT_PROG|  9000|            - |       102|           60|\n|   104|     Bruce|    Ernst|  BERNST|590.423.4568|21-MAY-07|   IT_PROG|  6000|            - |       103|           60|\n|   105|     David|   Austin| DAUSTIN|590.423.4569|25-JUN-05|   IT_PROG|  4800|            - |       103|           60|\n|   106|     Valli|Pataballa|VPATABAL|590.423.4560|05-FEB-06|   IT_PROG|  4800|            - |       103|           60|\n|   107|     Diana|  Lorentz|DLORENTZ|590.423.5567|07-FEB-07|   IT_PROG|  4200|            - |       103|           60|\n|   108|     Nancy|Greenberg|NGREENBE|515.124.4569|17-AUG-02|    FI_MGR| 12008|            - |       101|          100|\n|   109|    Daniel|   Faviet| DFAVIET|515.124.4169|16-AUG-02|FI_ACCOUNT|  9000|            - |       108|          100|\n|   110|      John|     Chen|   JCHEN|515.124.4269|28-SEP-05|FI_ACCOUNT|  8200|            - |       108|          100|\n+------+----------+---------+--------+------------+---------+----------+------+--------------+----------+-------------+\nonly showing top 20 rows\n\n"
     ]
    }
   ],
   "source": [
    "# Rename Column\n",
    "\n",
    "df.withColumnRenamed(\"employee_id\",\"EMP_ID\").show()"
   ]
  },
  {
   "cell_type": "code",
   "execution_count": 0,
   "metadata": {
    "application/vnd.databricks.v1+cell": {
     "cellMetadata": {
      "byteLimit": 2048000,
      "rowLimit": 10000
     },
     "inputWidgets": {},
     "nuid": "8b81bf73-ee53-4f7e-8227-995e5e556ef2",
     "showTitle": false,
     "title": ""
    }
   },
   "outputs": [
    {
     "output_type": "stream",
     "name": "stdout",
     "output_type": "stream",
     "text": [
      "root\n |-- EMPLOYEE_ID: integer (nullable = true)\n |-- FIRST_NAME: string (nullable = true)\n |-- LAST_NAME: string (nullable = true)\n |-- EMAIL: string (nullable = true)\n |-- PHONE_NUMBER: string (nullable = true)\n |-- HIRE_DATE: string (nullable = true)\n |-- JOB_ID: string (nullable = true)\n |-- SALARY: integer (nullable = true)\n |-- COMMISSION_PCT: string (nullable = true)\n |-- MANAGER_ID: string (nullable = true)\n |-- DEPARTMENT_ID: integer (nullable = true)\n\n"
     ]
    }
   ],
   "source": [
    "# Catsing a column\n",
    "df.printSchema()"
   ]
  },
  {
   "cell_type": "code",
   "execution_count": 0,
   "metadata": {
    "application/vnd.databricks.v1+cell": {
     "cellMetadata": {
      "byteLimit": 2048000,
      "rowLimit": 10000
     },
     "inputWidgets": {},
     "nuid": "d50ae1a4-328d-45f1-969f-d7fbc95aba6c",
     "showTitle": false,
     "title": ""
    }
   },
   "outputs": [],
   "source": [
    "# date type formating\n",
    "df_change = df.withColumn(\"HIRE_DATE\",to_date(col(\"HIRE_DATE\")))"
   ]
  },
  {
   "cell_type": "code",
   "execution_count": 0,
   "metadata": {
    "application/vnd.databricks.v1+cell": {
     "cellMetadata": {
      "byteLimit": 2048000,
      "rowLimit": 10000
     },
     "inputWidgets": {},
     "nuid": "23f8f77e-734e-4e5d-b28e-68ba26ba1661",
     "showTitle": false,
     "title": ""
    }
   },
   "outputs": [
    {
     "output_type": "stream",
     "name": "stdout",
     "output_type": "stream",
     "text": [
      "root\n |-- EMPLOYEE_ID: integer (nullable = true)\n |-- FIRST_NAME: string (nullable = true)\n |-- LAST_NAME: string (nullable = true)\n |-- EMAIL: string (nullable = true)\n |-- PHONE_NUMBER: string (nullable = true)\n |-- HIRE_DATE: date (nullable = true)\n |-- JOB_ID: string (nullable = true)\n |-- SALARY: integer (nullable = true)\n |-- COMMISSION_PCT: string (nullable = true)\n |-- MANAGER_ID: string (nullable = true)\n |-- DEPARTMENT_ID: integer (nullable = true)\n\n"
     ]
    }
   ],
   "source": [
    "df_change.printSchema()"
   ]
  },
  {
   "cell_type": "code",
   "execution_count": 0,
   "metadata": {
    "application/vnd.databricks.v1+cell": {
     "cellMetadata": {
      "byteLimit": 2048000,
      "rowLimit": 10000
     },
     "inputWidgets": {},
     "nuid": "2ea29fb1-deb1-4004-bada-c5cf076f2ea1",
     "showTitle": false,
     "title": ""
    }
   },
   "outputs": [
    {
     "output_type": "stream",
     "name": "stdout",
     "output_type": "stream",
     "text": [
      "root\n |-- EMPLOYEE_ID: integer (nullable = true)\n |-- FIRST_NAME: string (nullable = true)\n |-- LAST_NAME: string (nullable = true)\n |-- EMAIL: string (nullable = true)\n |-- PHONE_NUMBER: string (nullable = true)\n |-- HIRE_DATE: string (nullable = true)\n |-- JOB_ID: string (nullable = true)\n |-- SALARY: integer (nullable = true)\n |-- COMMISSION_PCT: string (nullable = true)\n |-- MANAGER_ID: integer (nullable = true)\n |-- DEPARTMENT_ID: integer (nullable = true)\n\n"
     ]
    }
   ],
   "source": [
    "# Casting dataframe type \n",
    "df.withColumn(\"MANAGER_ID\",col(\"MANAGER_ID\").cast(\"integer\")).printSchema()"
   ]
  },
  {
   "cell_type": "code",
   "execution_count": 0,
   "metadata": {
    "application/vnd.databricks.v1+cell": {
     "cellMetadata": {
      "byteLimit": 2048000,
      "rowLimit": 10000
     },
     "inputWidgets": {},
     "nuid": "e4f4fcad-f0f5-48e4-ad59-b37b1bc1c61f",
     "showTitle": false,
     "title": ""
    }
   },
   "outputs": [
    {
     "output_type": "stream",
     "name": "stdout",
     "output_type": "stream",
     "text": [
      "+-----------+----------+---------+--------+------------+---------+----------+------+--------------+\n|EMPLOYEE_ID|FIRST_NAME|LAST_NAME|   EMAIL|PHONE_NUMBER|HIRE_DATE|    JOB_ID|SALARY|COMMISSION_PCT|\n+-----------+----------+---------+--------+------------+---------+----------+------+--------------+\n|        198|    Donald| OConnell|DOCONNEL|650.507.9833|21-JUN-07|  SH_CLERK|  2600|            - |\n|        199|   Douglas|    Grant|  DGRANT|650.507.9844|13-JAN-08|  SH_CLERK|  2600|            - |\n|        200|  Jennifer|   Whalen| JWHALEN|515.123.4444|17-SEP-03|   AD_ASST|  4400|            - |\n|        201|   Michael|Hartstein|MHARTSTE|515.123.5555|17-FEB-04|    MK_MAN| 13000|            - |\n|        202|       Pat|      Fay|    PFAY|603.123.6666|17-AUG-05|    MK_REP|  6000|            - |\n|        203|     Susan|   Mavris| SMAVRIS|515.123.7777|07-JUN-02|    HR_REP|  6500|            - |\n|        204|   Hermann|     Baer|   HBAER|515.123.8888|07-JUN-02|    PR_REP| 10000|            - |\n|        205|   Shelley|  Higgins|SHIGGINS|515.123.8080|07-JUN-02|    AC_MGR| 12008|            - |\n|        206|   William|    Gietz|  WGIETZ|515.123.8181|07-JUN-02|AC_ACCOUNT|  8300|            - |\n|        100|    Steven|     King|   SKING|515.123.4567|17-JUN-03|   AD_PRES| 24000|            - |\n|        101|     Neena|  Kochhar|NKOCHHAR|515.123.4568|21-SEP-05|     AD_VP| 17000|            - |\n|        102|       Lex|  De Haan| LDEHAAN|515.123.4569|13-JAN-01|     AD_VP| 17000|            - |\n|        103| Alexander|   Hunold| AHUNOLD|590.423.4567|03-JAN-06|   IT_PROG|  9000|            - |\n|        104|     Bruce|    Ernst|  BERNST|590.423.4568|21-MAY-07|   IT_PROG|  6000|            - |\n|        105|     David|   Austin| DAUSTIN|590.423.4569|25-JUN-05|   IT_PROG|  4800|            - |\n|        106|     Valli|Pataballa|VPATABAL|590.423.4560|05-FEB-06|   IT_PROG|  4800|            - |\n|        107|     Diana|  Lorentz|DLORENTZ|590.423.5567|07-FEB-07|   IT_PROG|  4200|            - |\n|        108|     Nancy|Greenberg|NGREENBE|515.124.4569|17-AUG-02|    FI_MGR| 12008|            - |\n|        109|    Daniel|   Faviet| DFAVIET|515.124.4169|16-AUG-02|FI_ACCOUNT|  9000|            - |\n|        110|      John|     Chen|   JCHEN|515.124.4269|28-SEP-05|FI_ACCOUNT|  8200|            - |\n+-----------+----------+---------+--------+------------+---------+----------+------+--------------+\nonly showing top 20 rows\n\n"
     ]
    }
   ],
   "source": [
    "# Remove columns \n",
    "df.drop(col(\"manager_id\"),\"department_id\").show()"
   ]
  },
  {
   "cell_type": "code",
   "execution_count": 0,
   "metadata": {
    "application/vnd.databricks.v1+cell": {
     "cellMetadata": {
      "byteLimit": 2048000,
      "rowLimit": 10000
     },
     "inputWidgets": {},
     "nuid": "0d9774ce-be5f-4799-b652-8b504cc8a563",
     "showTitle": false,
     "title": ""
    }
   },
   "outputs": [
    {
     "output_type": "stream",
     "name": "stdout",
     "output_type": "stream",
     "text": [
      "+-----------+----------+---------+--------+------------+---------+----------+------+--------------+----------+-------------+---------+\n|EMPLOYEE_ID|FIRST_NAME|LAST_NAME|   EMAIL|PHONE_NUMBER|HIRE_DATE|    JOB_ID|SALARY|COMMISSION_PCT|MANAGER_ID|DEPARTMENT_ID|extra_col|\n+-----------+----------+---------+--------+------------+---------+----------+------+--------------+----------+-------------+---------+\n|        198|    Donald| OConnell|DOCONNEL|650.507.9833|21-JUN-07|  SH_CLERK|  2600|            - |       124|           50|  Unknown|\n|        199|   Douglas|    Grant|  DGRANT|650.507.9844|13-JAN-08|  SH_CLERK|  2600|            - |       124|           50|  Unknown|\n|        200|  Jennifer|   Whalen| JWHALEN|515.123.4444|17-SEP-03|   AD_ASST|  4400|            - |       101|           10|  Unknown|\n|        201|   Michael|Hartstein|MHARTSTE|515.123.5555|17-FEB-04|    MK_MAN| 13000|            - |       100|           20|  Unknown|\n|        202|       Pat|      Fay|    PFAY|603.123.6666|17-AUG-05|    MK_REP|  6000|            - |       201|           20|  Unknown|\n|        203|     Susan|   Mavris| SMAVRIS|515.123.7777|07-JUN-02|    HR_REP|  6500|            - |       101|           40|  Unknown|\n|        204|   Hermann|     Baer|   HBAER|515.123.8888|07-JUN-02|    PR_REP| 10000|            - |       101|           70|  Unknown|\n|        205|   Shelley|  Higgins|SHIGGINS|515.123.8080|07-JUN-02|    AC_MGR| 12008|            - |       101|          110|  Unknown|\n|        206|   William|    Gietz|  WGIETZ|515.123.8181|07-JUN-02|AC_ACCOUNT|  8300|            - |       205|          110|  Unknown|\n|        100|    Steven|     King|   SKING|515.123.4567|17-JUN-03|   AD_PRES| 24000|            - |        - |           90|  Unknown|\n|        101|     Neena|  Kochhar|NKOCHHAR|515.123.4568|21-SEP-05|     AD_VP| 17000|            - |       100|           90|  Unknown|\n|        102|       Lex|  De Haan| LDEHAAN|515.123.4569|13-JAN-01|     AD_VP| 17000|            - |       100|           90|  Unknown|\n|        103| Alexander|   Hunold| AHUNOLD|590.423.4567|03-JAN-06|   IT_PROG|  9000|            - |       102|           60|  Unknown|\n|        104|     Bruce|    Ernst|  BERNST|590.423.4568|21-MAY-07|   IT_PROG|  6000|            - |       103|           60|  Unknown|\n|        105|     David|   Austin| DAUSTIN|590.423.4569|25-JUN-05|   IT_PROG|  4800|            - |       103|           60|  Unknown|\n|        106|     Valli|Pataballa|VPATABAL|590.423.4560|05-FEB-06|   IT_PROG|  4800|            - |       103|           60|  Unknown|\n|        107|     Diana|  Lorentz|DLORENTZ|590.423.5567|07-FEB-07|   IT_PROG|  4200|            - |       103|           60|  Unknown|\n|        108|     Nancy|Greenberg|NGREENBE|515.124.4569|17-AUG-02|    FI_MGR| 12008|            - |       101|          100|  Unknown|\n|        109|    Daniel|   Faviet| DFAVIET|515.124.4169|16-AUG-02|FI_ACCOUNT|  9000|            - |       108|          100|  Unknown|\n|        110|      John|     Chen|   JCHEN|515.124.4269|28-SEP-05|FI_ACCOUNT|  8200|            - |       108|          100|  Unknown|\n+-----------+----------+---------+--------+------------+---------+----------+------+--------------+----------+-------------+---------+\nonly showing top 20 rows\n\n"
     ]
    }
   ],
   "source": [
    "# literal - this will add the value to all the columns \n",
    "df.withColumn(\"extra_col\",lit(\"Unknown\")).show()"
   ]
  },
  {
   "cell_type": "markdown",
   "metadata": {
    "application/vnd.databricks.v1+cell": {
     "cellMetadata": {},
     "inputWidgets": {},
     "nuid": "28979128-731c-492e-b2e7-b5525f2b8a85",
     "showTitle": false,
     "title": ""
    }
   },
   "source": [
    "Aggregate fun and Group by"
   ]
  },
  {
   "cell_type": "code",
   "execution_count": 0,
   "metadata": {
    "application/vnd.databricks.v1+cell": {
     "cellMetadata": {
      "byteLimit": 2048000,
      "rowLimit": 10000
     },
     "inputWidgets": {},
     "nuid": "ce8ea2d5-26aa-416f-a1a9-caeabfd2924e",
     "showTitle": false,
     "title": ""
    }
   },
   "outputs": [],
   "source": [
    "df_new = df.select(\"employee_id\",\"first_name\",\"email\",\"salary\",\"manager_id\",\"DEPARTMENT_ID\")"
   ]
  },
  {
   "cell_type": "code",
   "execution_count": 0,
   "metadata": {
    "application/vnd.databricks.v1+cell": {
     "cellMetadata": {
      "byteLimit": 2048000,
      "rowLimit": 10000
     },
     "inputWidgets": {},
     "nuid": "e7528690-615f-46ff-be56-1e7168ab964b",
     "showTitle": false,
     "title": ""
    }
   },
   "outputs": [
    {
     "output_type": "stream",
     "name": "stdout",
     "output_type": "stream",
     "text": [
      "+-----------+----------+--------+------+----------+-------------+\n|employee_id|first_name|   email|salary|manager_id|DEPARTMENT_ID|\n+-----------+----------+--------+------+----------+-------------+\n|        198|    Donald|DOCONNEL|  2600|       124|           50|\n|        199|   Douglas|  DGRANT|  2600|       124|           50|\n|        200|  Jennifer| JWHALEN|  4400|       101|           10|\n|        201|   Michael|MHARTSTE| 13000|       100|           20|\n|        202|       Pat|    PFAY|  6000|       201|           20|\n|        203|     Susan| SMAVRIS|  6500|       101|           40|\n|        204|   Hermann|   HBAER| 10000|       101|           70|\n|        205|   Shelley|SHIGGINS| 12008|       101|          110|\n|        206|   William|  WGIETZ|  8300|       205|          110|\n|        100|    Steven|   SKING| 24000|        - |           90|\n|        101|     Neena|NKOCHHAR| 17000|       100|           90|\n|        102|       Lex| LDEHAAN| 17000|       100|           90|\n|        103| Alexander| AHUNOLD|  9000|       102|           60|\n|        104|     Bruce|  BERNST|  6000|       103|           60|\n|        105|     David| DAUSTIN|  4800|       103|           60|\n|        106|     Valli|VPATABAL|  4800|       103|           60|\n|        107|     Diana|DLORENTZ|  4200|       103|           60|\n|        108|     Nancy|NGREENBE| 12008|       101|          100|\n|        109|    Daniel| DFAVIET|  9000|       108|          100|\n|        110|      John|   JCHEN|  8200|       108|          100|\n+-----------+----------+--------+------+----------+-------------+\nonly showing top 20 rows\n\n"
     ]
    }
   ],
   "source": [
    "df_new.show()"
   ]
  },
  {
   "cell_type": "code",
   "execution_count": 0,
   "metadata": {
    "application/vnd.databricks.v1+cell": {
     "cellMetadata": {
      "byteLimit": 2048000,
      "rowLimit": 10000
     },
     "inputWidgets": {},
     "nuid": "06263327-655a-4584-8fff-c340e7fbc6e3",
     "showTitle": false,
     "title": ""
    }
   },
   "outputs": [],
   "source": [
    "# aggregare fun \n",
    "df1 = df_new.select(count(\"employee_id\").alias(\"Total No of employee\"), sum(\"salary\").alias(\"Total_Salary\"), max(\"salary\").alias(\"Max_Salary\"),\n",
    "              min(\"salary\").alias(\"Min_salary\"))"
   ]
  },
  {
   "cell_type": "code",
   "execution_count": 0,
   "metadata": {
    "application/vnd.databricks.v1+cell": {
     "cellMetadata": {
      "byteLimit": 2048000,
      "rowLimit": 10000
     },
     "inputWidgets": {},
     "nuid": "8cc00784-6ab5-46dd-bece-aa34dfef69bf",
     "showTitle": false,
     "title": ""
    }
   },
   "outputs": [
    {
     "output_type": "display_data",
     "data": {
      "text/html": [
       "<style scoped>\n",
       "  .table-result-container {\n",
       "    max-height: 300px;\n",
       "    overflow: auto;\n",
       "  }\n",
       "  table, th, td {\n",
       "    border: 1px solid black;\n",
       "    border-collapse: collapse;\n",
       "  }\n",
       "  th, td {\n",
       "    padding: 5px;\n",
       "  }\n",
       "  th {\n",
       "    text-align: left;\n",
       "  }\n",
       "</style><div class='table-result-container'><table class='table-result'><thead style='background-color: white'><tr><th>Total No of employee</th><th>Total_Salary</th><th>Max_Salary</th><th>Min_salary</th></tr></thead><tbody><tr><td>50</td><td>309116</td><td>24000</td><td>2100</td></tr></tbody></table></div>"
      ]
     },
     "metadata": {
      "application/vnd.databricks.v1+output": {
       "addedWidgets": {},
       "aggData": [],
       "aggError": "",
       "aggOverflow": false,
       "aggSchema": [],
       "aggSeriesLimitReached": false,
       "aggType": "",
       "arguments": {},
       "columnCustomDisplayInfos": {},
       "data": [
        [
         50,
         309116,
         24000,
         2100
        ]
       ],
       "datasetInfos": [],
       "dbfsResultPath": null,
       "isJsonSchema": true,
       "metadata": {},
       "overflow": false,
       "plotOptions": {
        "customPlotOptions": {},
        "displayType": "table",
        "pivotAggregation": null,
        "pivotColumns": null,
        "xColumns": null,
        "yColumns": null
       },
       "removedWidgets": [],
       "schema": [
        {
         "metadata": "{}",
         "name": "Total No of employee",
         "type": "\"long\""
        },
        {
         "metadata": "{}",
         "name": "Total_Salary",
         "type": "\"long\""
        },
        {
         "metadata": "{}",
         "name": "Max_Salary",
         "type": "\"integer\""
        },
        {
         "metadata": "{}",
         "name": "Min_salary",
         "type": "\"integer\""
        }
       ],
       "type": "table"
      }
     },
     "output_type": "display_data"
    }
   ],
   "source": [
    "df1.display()"
   ]
  },
  {
   "cell_type": "code",
   "execution_count": 0,
   "metadata": {
    "application/vnd.databricks.v1+cell": {
     "cellMetadata": {
      "byteLimit": 2048000,
      "rowLimit": 10000
     },
     "inputWidgets": {},
     "nuid": "bb5f5bbf-6508-40cf-a0a2-494c8e6d060d",
     "showTitle": false,
     "title": ""
    }
   },
   "outputs": [
    {
     "output_type": "stream",
     "name": "stdout",
     "output_type": "stream",
     "text": [
      "Out[75]: 50"
     ]
    }
   ],
   "source": [
    "df1.collect()[0][0]"
   ]
  },
  {
   "cell_type": "code",
   "execution_count": 0,
   "metadata": {
    "application/vnd.databricks.v1+cell": {
     "cellMetadata": {
      "byteLimit": 2048000,
      "rowLimit": 10000
     },
     "inputWidgets": {},
     "nuid": "8359d32e-c5a0-4369-b8d6-5db2ae5931d7",
     "showTitle": false,
     "title": ""
    }
   },
   "outputs": [
    {
     "output_type": "stream",
     "name": "stdout",
     "output_type": "stream",
     "text": [
      "+-------------+---------+---------+-------+-------+\n|DEPARTMENT_ID|total_sal|no of rec|Max sal|min_sal|\n+-------------+---------+---------+-------+-------+\n|           20|    19000|        2|  13000|   6000|\n|           40|     6500|        1|   6500|   6500|\n|          100|    51608|        6|  12008|   6900|\n|           10|     4400|        1|   4400|   4400|\n|           50|    85600|       23|   8200|   2100|\n|           70|    10000|        1|  10000|  10000|\n|           90|    58000|        3|  24000|  17000|\n|           60|    28800|        5|   9000|   4200|\n|          110|    20308|        2|  12008|   8300|\n|           30|    24900|        6|  11000|   2500|\n+-------------+---------+---------+-------+-------+\n\n"
     ]
    }
   ],
   "source": [
    "# Group by \n",
    "\n",
    "df_new.groupBy(\"DEPARTMENT_ID\").agg(sum(col(\"salary\")).alias(\"total_sal\"),count(\"salary\").alias(\"no of rec\"),max(\"salary\").alias(\"Max sal\"),min(\"salary\").alias(\"min_sal\")).show()"
   ]
  },
  {
   "cell_type": "code",
   "execution_count": 0,
   "metadata": {
    "application/vnd.databricks.v1+cell": {
     "cellMetadata": {
      "byteLimit": 2048000,
      "rowLimit": 10000
     },
     "inputWidgets": {},
     "nuid": "330360a0-bbed-427d-9719-74ef67430203",
     "showTitle": false,
     "title": ""
    }
   },
   "outputs": [],
   "source": [
    "# New data set \n",
    "datas = [(1,\"manish\",50000,\"IT\",\"india\"),\n",
    "(2,\"vikash\",60000,\"sales\",\"us\"),\n",
    "(3,\"raushan\",70000,\"marketing\",\"india\"),\n",
    "(4,\"mukesh\",80000,\"IT\",\"us\"),\n",
    "(5,\"pritam\",90000,\"sales\",\"india\"),\n",
    "(6,\"nikita\",45000,\"marketing\",\"us\"),\n",
    "(7,\"ragini\",55000,\"marketing\",\"india\"),\n",
    "(8,\"rakesh\",100000,\"IT\",\"us\"),\n",
    "(9,\"aditya\",65000,\"IT\",\"india\"),\n",
    "(10,\"rahul\",50000,\"marketing\",\"us\")]\n",
    "\n",
    "my_schema = [\"Emp_id\",\"emp_name\",\"sal\",\"dept\",\"country\"]\n",
    "\n",
    "df = spark.createDataFrame(data=datas,schema=my_schema) "
   ]
  },
  {
   "cell_type": "code",
   "execution_count": 0,
   "metadata": {
    "application/vnd.databricks.v1+cell": {
     "cellMetadata": {
      "byteLimit": 2048000,
      "rowLimit": 10000
     },
     "inputWidgets": {},
     "nuid": "99955e9d-5e6e-4548-97e2-088f6f37bfb7",
     "showTitle": false,
     "title": ""
    }
   },
   "outputs": [
    {
     "output_type": "stream",
     "name": "stdout",
     "output_type": "stream",
     "text": [
      "+------+--------+------+---------+-------+\n|Emp_id|emp_name|   sal|     dept|country|\n+------+--------+------+---------+-------+\n|     1|  manish| 50000|       IT|  india|\n|     2|  vikash| 60000|    sales|     us|\n|     3| raushan| 70000|marketing|  india|\n|     4|  mukesh| 80000|       IT|     us|\n|     5|  pritam| 90000|    sales|  india|\n|     6|  nikita| 45000|marketing|     us|\n|     7|  ragini| 55000|marketing|  india|\n|     8|  rakesh|100000|       IT|     us|\n|     9|  aditya| 65000|       IT|  india|\n|    10|   rahul| 50000|marketing|     us|\n+------+--------+------+---------+-------+\n\n"
     ]
    }
   ],
   "source": [
    "df.show()"
   ]
  },
  {
   "cell_type": "code",
   "execution_count": 0,
   "metadata": {
    "application/vnd.databricks.v1+cell": {
     "cellMetadata": {
      "byteLimit": 2048000,
      "rowLimit": 10000
     },
     "inputWidgets": {},
     "nuid": "c2ec8eff-311a-455e-a2c8-a8fac09ce854",
     "showTitle": false,
     "title": ""
    }
   },
   "outputs": [
    {
     "output_type": "stream",
     "name": "stdout",
     "output_type": "stream",
     "text": [
      "+---------+-------+-------+\n|     dept|country|tot_sal|\n+---------+-------+-------+\n|       IT|     us| 180000|\n|       IT|  india| 115000|\n|marketing|  india| 125000|\n|marketing|     us|  95000|\n|    sales|  india|  90000|\n|    sales|     us|  60000|\n+---------+-------+-------+\n\n"
     ]
    }
   ],
   "source": [
    "df.groupBy(col(\"dept\"),col(\"country\")).agg(sum(\"sal\").alias('tot_sal')).orderBy(col(\"dept\"),col(\"tot_sal\").desc()).show()"
   ]
  },
  {
   "cell_type": "markdown",
   "metadata": {
    "application/vnd.databricks.v1+cell": {
     "cellMetadata": {},
     "inputWidgets": {},
     "nuid": "d6156cae-3bb2-494e-b0d0-13858035fb0b",
     "showTitle": false,
     "title": ""
    }
   },
   "source": [
    "Joins"
   ]
  },
  {
   "cell_type": "code",
   "execution_count": 0,
   "metadata": {
    "application/vnd.databricks.v1+cell": {
     "cellMetadata": {
      "byteLimit": 2048000,
      "rowLimit": 10000
     },
     "inputWidgets": {},
     "nuid": "3bb361b6-3ca9-4d0e-ae54-4cbc8c94cd56",
     "showTitle": false,
     "title": ""
    }
   },
   "outputs": [
    {
     "output_type": "stream",
     "name": "stdout",
     "output_type": "stream",
     "text": [
      "+------+--------+-----------+\n|emp_id|    name|emp_dept_id|\n+------+--------+-----------+\n|     1|   Smith|         10|\n|     2|    Rose|         20|\n|     3|Williams|         10|\n|     4|   Jones|         30|\n+------+--------+-----------+\n\n+---------+-------+\n|dept_name|dept_id|\n+---------+-------+\n|  Finance|     10|\n|Marketing|     20|\n|    Sales|     30|\n|       IT|     40|\n+---------+-------+\n\n+------+---------------+--------+-----+\n|emp_id|       addline1|    city|state|\n+------+---------------+--------+-----+\n|     1|   1523 Main St|     SFO|   CA|\n|     2| 3453 Orange St|     SFO|   NY|\n|     3|   34 Warner St|  Jersey|   NJ|\n|     4|221 Cavalier St|  Newark|   DE|\n|     5|  789 Walnut St|Sandiago|   CA|\n+------+---------------+--------+-----+\n\n"
     ]
    }
   ],
   "source": [
    "# Preparing data sets for joining\n",
    "\n",
    "empData = [(1,\"Smith\",10), (2,\"Rose\",20),\n",
    "    (3,\"Williams\",10), (4,\"Jones\",30)\n",
    "  ]\n",
    "empColumns = [\"emp_id\",\"name\",\"emp_dept_id\"]\n",
    "empDF = spark.createDataFrame(empData,empColumns)\n",
    "empDF.show()\n",
    "\n",
    "deptData = [(\"Finance\",10), (\"Marketing\",20),\n",
    "    (\"Sales\",30),(\"IT\",40)\n",
    "  ]\n",
    "deptColumns = [\"dept_name\",\"dept_id\"]\n",
    "deptDF=spark.createDataFrame(deptData,deptColumns)  \n",
    "deptDF.show()\n",
    "\n",
    "addData=[(1,\"1523 Main St\",\"SFO\",\"CA\"),\n",
    "    (2,\"3453 Orange St\",\"SFO\",\"NY\"),\n",
    "    (3,\"34 Warner St\",\"Jersey\",\"NJ\"),\n",
    "    (4,\"221 Cavalier St\",\"Newark\",\"DE\"),\n",
    "    (5,\"789 Walnut St\",\"Sandiago\",\"CA\")\n",
    "  ]\n",
    "addColumns = [\"emp_id\",\"addline1\",\"city\",\"state\"]\n",
    "addDF = spark.createDataFrame(addData,addColumns)\n",
    "addDF.show()"
   ]
  },
  {
   "cell_type": "code",
   "execution_count": 0,
   "metadata": {
    "application/vnd.databricks.v1+cell": {
     "cellMetadata": {
      "byteLimit": 2048000,
      "rowLimit": 10000
     },
     "inputWidgets": {},
     "nuid": "5dd9d0b1-7572-4647-b5d7-0f66d7513bf7",
     "showTitle": false,
     "title": ""
    }
   },
   "outputs": [
    {
     "output_type": "stream",
     "name": "stdout",
     "output_type": "stream",
     "text": [
      "+------+--------+-----------+---------+-------+\n|emp_id|    name|emp_dept_id|dept_name|dept_id|\n+------+--------+-----------+---------+-------+\n|     1|   Smith|         10|  Finance|     10|\n|     3|Williams|         10|  Finance|     10|\n|     2|    Rose|         20|Marketing|     20|\n|     4|   Jones|         30|    Sales|     30|\n+------+--------+-----------+---------+-------+\n\n"
     ]
    }
   ],
   "source": [
    "# Join -> Inner Join\n",
    "empDF.join(deptDF,empDF[\"emp_dept_id\"] == deptDF[\"dept_id\"],'inner').show()"
   ]
  },
  {
   "cell_type": "code",
   "execution_count": 0,
   "metadata": {
    "application/vnd.databricks.v1+cell": {
     "cellMetadata": {
      "byteLimit": 2048000,
      "rowLimit": 10000
     },
     "inputWidgets": {},
     "nuid": "f968de3c-332e-44a0-9d74-eab95c885b61",
     "showTitle": false,
     "title": ""
    }
   },
   "outputs": [
    {
     "output_type": "stream",
     "name": "stdout",
     "output_type": "stream",
     "text": [
      "+------+--------+-----------+---------+-------+\n|emp_id|    name|emp_dept_id|dept_name|dept_id|\n+------+--------+-----------+---------+-------+\n|     1|   Smith|         10|  Finance|     10|\n|     2|    Rose|         20|Marketing|     20|\n|     3|Williams|         10|  Finance|     10|\n|     4|   Jones|         30|    Sales|     30|\n+------+--------+-----------+---------+-------+\n\n"
     ]
    }
   ],
   "source": [
    "# Join -> Left outer Join\n",
    "empDF.join(deptDF,empDF[\"emp_dept_id\"] == deptDF[\"dept_id\"],'left').show()"
   ]
  },
  {
   "cell_type": "code",
   "execution_count": 0,
   "metadata": {
    "application/vnd.databricks.v1+cell": {
     "cellMetadata": {
      "byteLimit": 2048000,
      "rowLimit": 10000
     },
     "inputWidgets": {},
     "nuid": "5c15d45f-f423-418b-81ec-637ff26656c6",
     "showTitle": false,
     "title": ""
    }
   },
   "outputs": [
    {
     "output_type": "stream",
     "name": "stdout",
     "output_type": "stream",
     "text": [
      "+------+--------+-----------+---------+-------+\n|emp_id|    name|emp_dept_id|dept_name|dept_id|\n+------+--------+-----------+---------+-------+\n|     3|Williams|         10|  Finance|     10|\n|     1|   Smith|         10|  Finance|     10|\n|     2|    Rose|         20|Marketing|     20|\n|     4|   Jones|         30|    Sales|     30|\n|  null|    null|       null|       IT|     40|\n+------+--------+-----------+---------+-------+\n\n"
     ]
    }
   ],
   "source": [
    "# Join -> Right outer Join\n",
    "empDF.join(deptDF,empDF[\"emp_dept_id\"] == deptDF[\"dept_id\"],'right').show()"
   ]
  },
  {
   "cell_type": "code",
   "execution_count": 0,
   "metadata": {
    "application/vnd.databricks.v1+cell": {
     "cellMetadata": {
      "byteLimit": 2048000,
      "rowLimit": 10000
     },
     "inputWidgets": {},
     "nuid": "b6214e19-bab2-46af-abb7-46b80bb0b736",
     "showTitle": false,
     "title": ""
    }
   },
   "outputs": [
    {
     "output_type": "stream",
     "name": "stdout",
     "output_type": "stream",
     "text": [
      "+------+--------+-----------+---------+-------+\n|emp_id|    name|emp_dept_id|dept_name|dept_id|\n+------+--------+-----------+---------+-------+\n|     1|   Smith|         10|  Finance|     10|\n|     3|Williams|         10|  Finance|     10|\n|     2|    Rose|         20|Marketing|     20|\n|     4|   Jones|         30|    Sales|     30|\n|  null|    null|       null|       IT|     40|\n+------+--------+-----------+---------+-------+\n\n"
     ]
    }
   ],
   "source": [
    "# Join ->  outer Join\n",
    "empDF.join(deptDF,empDF[\"emp_dept_id\"] == deptDF[\"dept_id\"],'outer').show()"
   ]
  },
  {
   "cell_type": "markdown",
   "metadata": {
    "application/vnd.databricks.v1+cell": {
     "cellMetadata": {},
     "inputWidgets": {},
     "nuid": "b5f980d1-7d07-40db-adb8-31e63c67f802",
     "showTitle": false,
     "title": ""
    }
   },
   "source": [
    "Windows Functions - > rank, dense rank and row number"
   ]
  },
  {
   "cell_type": "code",
   "execution_count": 0,
   "metadata": {
    "application/vnd.databricks.v1+cell": {
     "cellMetadata": {
      "byteLimit": 2048000,
      "rowLimit": 10000
     },
     "inputWidgets": {},
     "nuid": "f7378537-d3ca-41f0-a781-24bac2db6cfd",
     "showTitle": false,
     "title": ""
    }
   },
   "outputs": [
    {
     "output_type": "stream",
     "name": "stdout",
     "output_type": "stream",
     "text": [
      "+-----------+----------+---------+--------+------------+---------+----------+------+--------------+----------+-------------+\n|EMPLOYEE_ID|FIRST_NAME|LAST_NAME|   EMAIL|PHONE_NUMBER|HIRE_DATE|    JOB_ID|SALARY|COMMISSION_PCT|MANAGER_ID|DEPARTMENT_ID|\n+-----------+----------+---------+--------+------------+---------+----------+------+--------------+----------+-------------+\n|        198|    Donald| OConnell|DOCONNEL|650.507.9833|21-JUN-07|  SH_CLERK|  2600|            - |       124|           50|\n|        199|   Douglas|    Grant|  DGRANT|650.507.9844|13-JAN-08|  SH_CLERK|  2600|            - |       124|           50|\n|        200|  Jennifer|   Whalen| JWHALEN|515.123.4444|17-SEP-03|   AD_ASST|  4400|            - |       101|           10|\n|        201|   Michael|Hartstein|MHARTSTE|515.123.5555|17-FEB-04|    MK_MAN| 13000|            - |       100|           20|\n|        202|       Pat|      Fay|    PFAY|603.123.6666|17-AUG-05|    MK_REP|  6000|            - |       201|           20|\n|        203|     Susan|   Mavris| SMAVRIS|515.123.7777|07-JUN-02|    HR_REP|  6500|            - |       101|           40|\n|        204|   Hermann|     Baer|   HBAER|515.123.8888|07-JUN-02|    PR_REP| 10000|            - |       101|           70|\n|        205|   Shelley|  Higgins|SHIGGINS|515.123.8080|07-JUN-02|    AC_MGR| 12008|            - |       101|          110|\n|        206|   William|    Gietz|  WGIETZ|515.123.8181|07-JUN-02|AC_ACCOUNT|  8300|            - |       205|          110|\n|        100|    Steven|     King|   SKING|515.123.4567|17-JUN-03|   AD_PRES| 24000|            - |        - |           90|\n|        101|     Neena|  Kochhar|NKOCHHAR|515.123.4568|21-SEP-05|     AD_VP| 17000|            - |       100|           90|\n|        102|       Lex|  De Haan| LDEHAAN|515.123.4569|13-JAN-01|     AD_VP| 17000|            - |       100|           90|\n|        103| Alexander|   Hunold| AHUNOLD|590.423.4567|03-JAN-06|   IT_PROG|  9000|            - |       102|           60|\n|        104|     Bruce|    Ernst|  BERNST|590.423.4568|21-MAY-07|   IT_PROG|  6000|            - |       103|           60|\n|        105|     David|   Austin| DAUSTIN|590.423.4569|25-JUN-05|   IT_PROG|  4800|            - |       103|           60|\n|        106|     Valli|Pataballa|VPATABAL|590.423.4560|05-FEB-06|   IT_PROG|  4800|            - |       103|           60|\n|        107|     Diana|  Lorentz|DLORENTZ|590.423.5567|07-FEB-07|   IT_PROG|  4200|            - |       103|           60|\n|        108|     Nancy|Greenberg|NGREENBE|515.124.4569|17-AUG-02|    FI_MGR| 12008|            - |       101|          100|\n|        109|    Daniel|   Faviet| DFAVIET|515.124.4169|16-AUG-02|FI_ACCOUNT|  9000|            - |       108|          100|\n|        110|      John|     Chen|   JCHEN|515.124.4269|28-SEP-05|FI_ACCOUNT|  8200|            - |       108|          100|\n+-----------+----------+---------+--------+------------+---------+----------+------+--------------+----------+-------------+\nonly showing top 20 rows\n\n"
     ]
    }
   ],
   "source": [
    "df.show()"
   ]
  },
  {
   "cell_type": "code",
   "execution_count": 0,
   "metadata": {
    "application/vnd.databricks.v1+cell": {
     "cellMetadata": {
      "byteLimit": 2048000,
      "rowLimit": 10000
     },
     "inputWidgets": {},
     "nuid": "07fc6456-f554-42e0-801e-72bad8bc2c21",
     "showTitle": false,
     "title": ""
    }
   },
   "outputs": [],
   "source": [
    "from pyspark.sql.window import *\n",
    "from pyspark.sql.functions import *"
   ]
  },
  {
   "cell_type": "code",
   "execution_count": 0,
   "metadata": {
    "application/vnd.databricks.v1+cell": {
     "cellMetadata": {
      "byteLimit": 2048000,
      "rowLimit": 10000
     },
     "inputWidgets": {},
     "nuid": "ddddae96-4fb9-4db6-8336-7062b3d28d4c",
     "showTitle": false,
     "title": ""
    }
   },
   "outputs": [
    {
     "output_type": "stream",
     "name": "stdout",
     "output_type": "stream",
     "text": [
      "+-----------+-----------+---------+--------+------------+---------+----------+------+--------------+----------+-------------+----+\n|EMPLOYEE_ID| FIRST_NAME|LAST_NAME|   EMAIL|PHONE_NUMBER|HIRE_DATE|    JOB_ID|SALARY|COMMISSION_PCT|MANAGER_ID|DEPARTMENT_ID|rank|\n+-----------+-----------+---------+--------+------------+---------+----------+------+--------------+----------+-------------+----+\n|        206|    William|    Gietz|  WGIETZ|515.123.8181|07-JUN-02|AC_ACCOUNT|  8300|            - |       205|          110|   1|\n|        205|    Shelley|  Higgins|SHIGGINS|515.123.8080|07-JUN-02|    AC_MGR| 12008|            - |       101|          110|   1|\n|        200|   Jennifer|   Whalen| JWHALEN|515.123.4444|17-SEP-03|   AD_ASST|  4400|            - |       101|           10|   1|\n|        100|     Steven|     King|   SKING|515.123.4567|17-JUN-03|   AD_PRES| 24000|            - |        - |           90|   1|\n|        101|      Neena|  Kochhar|NKOCHHAR|515.123.4568|21-SEP-05|     AD_VP| 17000|            - |       100|           90|   1|\n|        102|        Lex|  De Haan| LDEHAAN|515.123.4569|13-JAN-01|     AD_VP| 17000|            - |       100|           90|   2|\n|        113|       Luis|     Popp|   LPOPP|515.124.4567|07-DEC-07|FI_ACCOUNT|  6900|            - |       108|          100|   1|\n|        111|     Ismael|  Sciarra|ISCIARRA|515.124.4369|30-SEP-05|FI_ACCOUNT|  7700|            - |       108|          100|   2|\n|        112|Jose Manuel|    Urman| JMURMAN|515.124.4469|07-MAR-06|FI_ACCOUNT|  7800|            - |       108|          100|   3|\n|        110|       John|     Chen|   JCHEN|515.124.4269|28-SEP-05|FI_ACCOUNT|  8200|            - |       108|          100|   4|\n|        109|     Daniel|   Faviet| DFAVIET|515.124.4169|16-AUG-02|FI_ACCOUNT|  9000|            - |       108|          100|   5|\n|        108|      Nancy|Greenberg|NGREENBE|515.124.4569|17-AUG-02|    FI_MGR| 12008|            - |       101|          100|   1|\n|        203|      Susan|   Mavris| SMAVRIS|515.123.7777|07-JUN-02|    HR_REP|  6500|            - |       101|           40|   1|\n|        107|      Diana|  Lorentz|DLORENTZ|590.423.5567|07-FEB-07|   IT_PROG|  4200|            - |       103|           60|   1|\n|        105|      David|   Austin| DAUSTIN|590.423.4569|25-JUN-05|   IT_PROG|  4800|            - |       103|           60|   2|\n|        106|      Valli|Pataballa|VPATABAL|590.423.4560|05-FEB-06|   IT_PROG|  4800|            - |       103|           60|   3|\n|        104|      Bruce|    Ernst|  BERNST|590.423.4568|21-MAY-07|   IT_PROG|  6000|            - |       103|           60|   4|\n|        103|  Alexander|   Hunold| AHUNOLD|590.423.4567|03-JAN-06|   IT_PROG|  9000|            - |       102|           60|   5|\n|        201|    Michael|Hartstein|MHARTSTE|515.123.5555|17-FEB-04|    MK_MAN| 13000|            - |       100|           20|   1|\n|        202|        Pat|      Fay|    PFAY|603.123.6666|17-AUG-05|    MK_REP|  6000|            - |       201|           20|   1|\n+-----------+-----------+---------+--------+------------+---------+----------+------+--------------+----------+-------------+----+\nonly showing top 20 rows\n\n"
     ]
    }
   ],
   "source": [
    "win =  Window.partitionBy(\"job_id\",).orderBy(\"salary\")\n",
    "df.withColumn(\"rank\",row_number().over(win)).orderBy(\"job_id\").show()"
   ]
  },
  {
   "cell_type": "code",
   "execution_count": 0,
   "metadata": {
    "application/vnd.databricks.v1+cell": {
     "cellMetadata": {
      "byteLimit": 2048000,
      "rowLimit": 10000
     },
     "inputWidgets": {},
     "nuid": "d0a23ddb-8940-492e-99f7-3e57d9f2719b",
     "showTitle": false,
     "title": ""
    }
   },
   "outputs": [
    {
     "output_type": "stream",
     "name": "stdout",
     "output_type": "stream",
     "text": [
      "+-----------+-----------+---------+--------+------------+---------+----------+------+--------------+----------+-------------+----------+\n|EMPLOYEE_ID| FIRST_NAME|LAST_NAME|   EMAIL|PHONE_NUMBER|HIRE_DATE|    JOB_ID|SALARY|COMMISSION_PCT|MANAGER_ID|DEPARTMENT_ID|dense_rank|\n+-----------+-----------+---------+--------+------------+---------+----------+------+--------------+----------+-------------+----------+\n|        206|    William|    Gietz|  WGIETZ|515.123.8181|07-JUN-02|AC_ACCOUNT|  8300|            - |       205|          110|         1|\n|        205|    Shelley|  Higgins|SHIGGINS|515.123.8080|07-JUN-02|    AC_MGR| 12008|            - |       101|          110|         1|\n|        200|   Jennifer|   Whalen| JWHALEN|515.123.4444|17-SEP-03|   AD_ASST|  4400|            - |       101|           10|         1|\n|        100|     Steven|     King|   SKING|515.123.4567|17-JUN-03|   AD_PRES| 24000|            - |        - |           90|         1|\n|        101|      Neena|  Kochhar|NKOCHHAR|515.123.4568|21-SEP-05|     AD_VP| 17000|            - |       100|           90|         1|\n|        102|        Lex|  De Haan| LDEHAAN|515.123.4569|13-JAN-01|     AD_VP| 17000|            - |       100|           90|         1|\n|        113|       Luis|     Popp|   LPOPP|515.124.4567|07-DEC-07|FI_ACCOUNT|  6900|            - |       108|          100|         1|\n|        111|     Ismael|  Sciarra|ISCIARRA|515.124.4369|30-SEP-05|FI_ACCOUNT|  7700|            - |       108|          100|         2|\n|        112|Jose Manuel|    Urman| JMURMAN|515.124.4469|07-MAR-06|FI_ACCOUNT|  7800|            - |       108|          100|         3|\n|        110|       John|     Chen|   JCHEN|515.124.4269|28-SEP-05|FI_ACCOUNT|  8200|            - |       108|          100|         4|\n|        109|     Daniel|   Faviet| DFAVIET|515.124.4169|16-AUG-02|FI_ACCOUNT|  9000|            - |       108|          100|         5|\n|        108|      Nancy|Greenberg|NGREENBE|515.124.4569|17-AUG-02|    FI_MGR| 12008|            - |       101|          100|         1|\n|        203|      Susan|   Mavris| SMAVRIS|515.123.7777|07-JUN-02|    HR_REP|  6500|            - |       101|           40|         1|\n|        107|      Diana|  Lorentz|DLORENTZ|590.423.5567|07-FEB-07|   IT_PROG|  4200|            - |       103|           60|         1|\n|        105|      David|   Austin| DAUSTIN|590.423.4569|25-JUN-05|   IT_PROG|  4800|            - |       103|           60|         2|\n|        106|      Valli|Pataballa|VPATABAL|590.423.4560|05-FEB-06|   IT_PROG|  4800|            - |       103|           60|         2|\n|        104|      Bruce|    Ernst|  BERNST|590.423.4568|21-MAY-07|   IT_PROG|  6000|            - |       103|           60|         3|\n|        103|  Alexander|   Hunold| AHUNOLD|590.423.4567|03-JAN-06|   IT_PROG|  9000|            - |       102|           60|         4|\n|        201|    Michael|Hartstein|MHARTSTE|515.123.5555|17-FEB-04|    MK_MAN| 13000|            - |       100|           20|         1|\n|        202|        Pat|      Fay|    PFAY|603.123.6666|17-AUG-05|    MK_REP|  6000|            - |       201|           20|         1|\n+-----------+-----------+---------+--------+------------+---------+----------+------+--------------+----------+-------------+----------+\nonly showing top 20 rows\n\n"
     ]
    }
   ],
   "source": [
    "df.withColumn(\"dense_rank\",dense_rank().over(win)).show()"
   ]
  },
  {
   "cell_type": "code",
   "execution_count": 0,
   "metadata": {
    "application/vnd.databricks.v1+cell": {
     "cellMetadata": {
      "byteLimit": 2048000,
      "rowLimit": 10000
     },
     "inputWidgets": {},
     "nuid": "66439561-1ac8-465d-acba-e223193a87ea",
     "showTitle": false,
     "title": ""
    }
   },
   "outputs": [
    {
     "output_type": "stream",
     "name": "stdout",
     "output_type": "stream",
     "text": [
      "+-----------+-----------+---------+--------+------------+---------+----------+------+--------------+----------+-------------+-----------+\n|EMPLOYEE_ID| FIRST_NAME|LAST_NAME|   EMAIL|PHONE_NUMBER|HIRE_DATE|    JOB_ID|SALARY|COMMISSION_PCT|MANAGER_ID|DEPARTMENT_ID|normal_rank|\n+-----------+-----------+---------+--------+------------+---------+----------+------+--------------+----------+-------------+-----------+\n|        206|    William|    Gietz|  WGIETZ|515.123.8181|07-JUN-02|AC_ACCOUNT|  8300|            - |       205|          110|          1|\n|        205|    Shelley|  Higgins|SHIGGINS|515.123.8080|07-JUN-02|    AC_MGR| 12008|            - |       101|          110|          1|\n|        200|   Jennifer|   Whalen| JWHALEN|515.123.4444|17-SEP-03|   AD_ASST|  4400|            - |       101|           10|          1|\n|        100|     Steven|     King|   SKING|515.123.4567|17-JUN-03|   AD_PRES| 24000|            - |        - |           90|          1|\n|        101|      Neena|  Kochhar|NKOCHHAR|515.123.4568|21-SEP-05|     AD_VP| 17000|            - |       100|           90|          1|\n|        102|        Lex|  De Haan| LDEHAAN|515.123.4569|13-JAN-01|     AD_VP| 17000|            - |       100|           90|          1|\n|        113|       Luis|     Popp|   LPOPP|515.124.4567|07-DEC-07|FI_ACCOUNT|  6900|            - |       108|          100|          1|\n|        111|     Ismael|  Sciarra|ISCIARRA|515.124.4369|30-SEP-05|FI_ACCOUNT|  7700|            - |       108|          100|          2|\n|        112|Jose Manuel|    Urman| JMURMAN|515.124.4469|07-MAR-06|FI_ACCOUNT|  7800|            - |       108|          100|          3|\n|        110|       John|     Chen|   JCHEN|515.124.4269|28-SEP-05|FI_ACCOUNT|  8200|            - |       108|          100|          4|\n|        109|     Daniel|   Faviet| DFAVIET|515.124.4169|16-AUG-02|FI_ACCOUNT|  9000|            - |       108|          100|          5|\n|        108|      Nancy|Greenberg|NGREENBE|515.124.4569|17-AUG-02|    FI_MGR| 12008|            - |       101|          100|          1|\n|        203|      Susan|   Mavris| SMAVRIS|515.123.7777|07-JUN-02|    HR_REP|  6500|            - |       101|           40|          1|\n|        107|      Diana|  Lorentz|DLORENTZ|590.423.5567|07-FEB-07|   IT_PROG|  4200|            - |       103|           60|          1|\n|        105|      David|   Austin| DAUSTIN|590.423.4569|25-JUN-05|   IT_PROG|  4800|            - |       103|           60|          2|\n|        106|      Valli|Pataballa|VPATABAL|590.423.4560|05-FEB-06|   IT_PROG|  4800|            - |       103|           60|          2|\n|        104|      Bruce|    Ernst|  BERNST|590.423.4568|21-MAY-07|   IT_PROG|  6000|            - |       103|           60|          4|\n|        103|  Alexander|   Hunold| AHUNOLD|590.423.4567|03-JAN-06|   IT_PROG|  9000|            - |       102|           60|          5|\n|        201|    Michael|Hartstein|MHARTSTE|515.123.5555|17-FEB-04|    MK_MAN| 13000|            - |       100|           20|          1|\n|        202|        Pat|      Fay|    PFAY|603.123.6666|17-AUG-05|    MK_REP|  6000|            - |       201|           20|          1|\n+-----------+-----------+---------+--------+------------+---------+----------+------+--------------+----------+-------------+-----------+\nonly showing top 20 rows\n\n"
     ]
    }
   ],
   "source": [
    "df.withColumn(\"normal_rank\",rank().over(win)).show()"
   ]
  },
  {
   "cell_type": "code",
   "execution_count": 0,
   "metadata": {
    "application/vnd.databricks.v1+cell": {
     "cellMetadata": {
      "byteLimit": 2048000,
      "rowLimit": 10000
     },
     "inputWidgets": {},
     "nuid": "5a425567-e61f-4599-8d60-9a3eef4ebc0a",
     "showTitle": false,
     "title": ""
    }
   },
   "outputs": [
    {
     "output_type": "stream",
     "name": "stdout",
     "output_type": "stream",
     "text": [
      "+-----------+-----------+---------+--------+------------+---------+----------+------+--------------+----------+-------------+-----+-------+\n|EMPLOYEE_ID| FIRST_NAME|LAST_NAME|   EMAIL|PHONE_NUMBER|HIRE_DATE|    JOB_ID|SALARY|COMMISSION_PCT|MANAGER_ID|DEPARTMENT_ID|  sum|    avg|\n+-----------+-----------+---------+--------+------------+---------+----------+------+--------------+----------+-------------+-----+-------+\n|        206|    William|    Gietz|  WGIETZ|515.123.8181|07-JUN-02|AC_ACCOUNT|  8300|            - |       205|          110| 8300| 8300.0|\n|        205|    Shelley|  Higgins|SHIGGINS|515.123.8080|07-JUN-02|    AC_MGR| 12008|            - |       101|          110|12008|12008.0|\n|        200|   Jennifer|   Whalen| JWHALEN|515.123.4444|17-SEP-03|   AD_ASST|  4400|            - |       101|           10| 4400| 4400.0|\n|        100|     Steven|     King|   SKING|515.123.4567|17-JUN-03|   AD_PRES| 24000|            - |        - |           90|24000|24000.0|\n|        101|      Neena|  Kochhar|NKOCHHAR|515.123.4568|21-SEP-05|     AD_VP| 17000|            - |       100|           90|34000|17000.0|\n|        102|        Lex|  De Haan| LDEHAAN|515.123.4569|13-JAN-01|     AD_VP| 17000|            - |       100|           90|34000|17000.0|\n|        109|     Daniel|   Faviet| DFAVIET|515.124.4169|16-AUG-02|FI_ACCOUNT|  9000|            - |       108|          100|39600| 7920.0|\n|        110|       John|     Chen|   JCHEN|515.124.4269|28-SEP-05|FI_ACCOUNT|  8200|            - |       108|          100|39600| 7920.0|\n|        111|     Ismael|  Sciarra|ISCIARRA|515.124.4369|30-SEP-05|FI_ACCOUNT|  7700|            - |       108|          100|39600| 7920.0|\n|        112|Jose Manuel|    Urman| JMURMAN|515.124.4469|07-MAR-06|FI_ACCOUNT|  7800|            - |       108|          100|39600| 7920.0|\n|        113|       Luis|     Popp|   LPOPP|515.124.4567|07-DEC-07|FI_ACCOUNT|  6900|            - |       108|          100|39600| 7920.0|\n|        108|      Nancy|Greenberg|NGREENBE|515.124.4569|17-AUG-02|    FI_MGR| 12008|            - |       101|          100|12008|12008.0|\n|        203|      Susan|   Mavris| SMAVRIS|515.123.7777|07-JUN-02|    HR_REP|  6500|            - |       101|           40| 6500| 6500.0|\n|        103|  Alexander|   Hunold| AHUNOLD|590.423.4567|03-JAN-06|   IT_PROG|  9000|            - |       102|           60|28800| 5760.0|\n|        104|      Bruce|    Ernst|  BERNST|590.423.4568|21-MAY-07|   IT_PROG|  6000|            - |       103|           60|28800| 5760.0|\n|        105|      David|   Austin| DAUSTIN|590.423.4569|25-JUN-05|   IT_PROG|  4800|            - |       103|           60|28800| 5760.0|\n|        106|      Valli|Pataballa|VPATABAL|590.423.4560|05-FEB-06|   IT_PROG|  4800|            - |       103|           60|28800| 5760.0|\n|        107|      Diana|  Lorentz|DLORENTZ|590.423.5567|07-FEB-07|   IT_PROG|  4200|            - |       103|           60|28800| 5760.0|\n|        201|    Michael|Hartstein|MHARTSTE|515.123.5555|17-FEB-04|    MK_MAN| 13000|            - |       100|           20|13000|13000.0|\n|        202|        Pat|      Fay|    PFAY|603.123.6666|17-AUG-05|    MK_REP|  6000|            - |       201|           20| 6000| 6000.0|\n+-----------+-----------+---------+--------+------------+---------+----------+------+--------------+----------+-------------+-----+-------+\nonly showing top 20 rows\n\n"
     ]
    }
   ],
   "source": [
    "gr = Window.partitionBy(col(\"job_id\"))\n",
    "df.withColumn(\"sum\",sum(col(\"salary\")).over(gr))\\\n",
    "  .withColumn(\"avg\",avg(\"salary\").over(gr)).show()"
   ]
  },
  {
   "cell_type": "code",
   "execution_count": 0,
   "metadata": {
    "application/vnd.databricks.v1+cell": {
     "cellMetadata": {
      "byteLimit": 2048000,
      "rowLimit": 10000
     },
     "inputWidgets": {},
     "nuid": "fe9e7b07-85e3-4965-9541-e3b13b7080c2",
     "showTitle": false,
     "title": ""
    }
   },
   "outputs": [],
   "source": [
    "#md Range and rows between"
   ]
  },
  {
   "cell_type": "code",
   "execution_count": 0,
   "metadata": {
    "application/vnd.databricks.v1+cell": {
     "cellMetadata": {
      "byteLimit": 2048000,
      "rowLimit": 10000
     },
     "inputWidgets": {},
     "nuid": "abf558f6-3a4f-4c3f-96e4-32f3a8f2ba2d",
     "showTitle": false,
     "title": ""
    }
   },
   "outputs": [
    {
     "output_type": "stream",
     "name": "stdout",
     "output_type": "stream",
     "text": [
      "+----------+------------+----------+-------+\n|product_id|product_name|sales_date|  sales|\n+----------+------------+----------+-------+\n|         2|     samsung|01-01-1995|  11000|\n|         1|      iphone|01-02-2023|1300000|\n|         2|     samsung|01-02-2023|1120000|\n|         3|     oneplus|01-02-2023|1120000|\n|         1|      iphone|01-03-2023|1600000|\n|         2|     samsung|01-03-2023|1080000|\n|         3|     oneplus|01-03-2023|1160000|\n|         1|      iphone|01-01-2006|  15000|\n|         1|      iphone|01-04-2023|1700000|\n|         2|     samsung|01-04-2023|1800000|\n|         3|     oneplus|01-04-2023|1170000|\n|         1|      iphone|01-05-2023|1200000|\n|         2|     samsung|01-05-2023| 980000|\n|         3|     oneplus|01-05-2023|1175000|\n|         1|      iphone|01-06-2023|1100000|\n|         3|     oneplus|01-01-2010|  23000|\n|         2|     samsung|01-06-2023|1100000|\n|         3|     oneplus|01-06-2023|1200000|\n+----------+------------+----------+-------+\n\n"
     ]
    }
   ],
   "source": [
    "product_data = [\n",
    "(2,\"samsung\",\"01-01-1995\",11000),\n",
    "(1,\"iphone\",\"01-02-2023\",1300000),\n",
    "(2,\"samsung\",\"01-02-2023\",1120000),\n",
    "(3,\"oneplus\",\"01-02-2023\",1120000),\n",
    "(1,\"iphone\",\"01-03-2023\",1600000),\n",
    "(2,\"samsung\",\"01-03-2023\",1080000),\n",
    "(3,\"oneplus\",\"01-03-2023\",1160000),\n",
    "(1,\"iphone\",\"01-01-2006\",15000),\n",
    "(1,\"iphone\",\"01-04-2023\",1700000),\n",
    "(2,\"samsung\",\"01-04-2023\",1800000),\n",
    "(3,\"oneplus\",\"01-04-2023\",1170000),\n",
    "(1,\"iphone\",\"01-05-2023\",1200000),\n",
    "(2,\"samsung\",\"01-05-2023\",980000),\n",
    "(3,\"oneplus\",\"01-05-2023\",1175000),\n",
    "(1,\"iphone\",\"01-06-2023\",1100000),\n",
    "(3,\"oneplus\",\"01-01-2010\",23000),\n",
    "(2,\"samsung\",\"01-06-2023\",1100000),\n",
    "(3,\"oneplus\",\"01-06-2023\",1200000)\n",
    "]\n",
    "\n",
    "product_schema=[\"product_id\",\"product_name\",\"sales_date\",\"sales\"]\n",
    "\n",
    "product_df = spark.createDataFrame(data=product_data,schema=product_schema)\n",
    "\n",
    "product_df.show()\n"
   ]
  },
  {
   "cell_type": "code",
   "execution_count": 0,
   "metadata": {
    "application/vnd.databricks.v1+cell": {
     "cellMetadata": {
      "byteLimit": 2048000,
      "rowLimit": 10000
     },
     "inputWidgets": {},
     "nuid": "ab1ab2d5-efef-4dc6-8358-460b25f37fed",
     "showTitle": false,
     "title": ""
    }
   },
   "outputs": [
    {
     "output_type": "stream",
     "name": "stdout",
     "output_type": "stream",
     "text": [
      "+----------+------------+----------+-------+-----------+----------+-------------+\n|product_id|product_name|sales_date|  sales|First Sales|Last Sales|Diff of sales|\n+----------+------------+----------+-------+-----------+----------+-------------+\n|         1|      iphone|01-01-2006|  15000|      15000|   1100000|      1085000|\n|         1|      iphone|01-02-2023|1300000|      15000|   1100000|      1085000|\n|         1|      iphone|01-03-2023|1600000|      15000|   1100000|      1085000|\n|         1|      iphone|01-04-2023|1700000|      15000|   1100000|      1085000|\n|         1|      iphone|01-05-2023|1200000|      15000|   1100000|      1085000|\n|         1|      iphone|01-06-2023|1100000|      15000|   1100000|      1085000|\n|         2|     samsung|01-01-1995|  11000|      11000|   1100000|      1089000|\n|         2|     samsung|01-02-2023|1120000|      11000|   1100000|      1089000|\n|         2|     samsung|01-03-2023|1080000|      11000|   1100000|      1089000|\n|         2|     samsung|01-04-2023|1800000|      11000|   1100000|      1089000|\n|         2|     samsung|01-05-2023| 980000|      11000|   1100000|      1089000|\n|         2|     samsung|01-06-2023|1100000|      11000|   1100000|      1089000|\n|         3|     oneplus|01-01-2010|  23000|      23000|   1200000|      1177000|\n|         3|     oneplus|01-02-2023|1120000|      23000|   1200000|      1177000|\n|         3|     oneplus|01-03-2023|1160000|      23000|   1200000|      1177000|\n|         3|     oneplus|01-04-2023|1170000|      23000|   1200000|      1177000|\n|         3|     oneplus|01-05-2023|1175000|      23000|   1200000|      1177000|\n|         3|     oneplus|01-06-2023|1200000|      23000|   1200000|      1177000|\n+----------+------------+----------+-------+-----------+----------+-------------+\n\n"
     ]
    }
   ],
   "source": [
    "#Find the difference in sales in for each product from their 1 st sales to the latest sales\n",
    "win = Window.partitionBy(col(\"product_id\")).orderBy(col(\"sales_date\")).rowsBetween(Window.unboundedPreceding,Window.unboundedFollowing)\n",
    "product_df.withColumn(\"First Sales\",first(\"sales\").over(win)) \\\n",
    "           .withColumn(\"Last Sales\",last(\"sales\").over(win)) \\\n",
    "            .withColumn(\"Diff of sales\",col(\"Last Sales\") - col(\"First Sales\")).show()                                                     "
   ]
  },
  {
   "cell_type": "code",
   "execution_count": 0,
   "metadata": {
    "application/vnd.databricks.v1+cell": {
     "cellMetadata": {
      "byteLimit": 2048000,
      "rowLimit": 10000
     },
     "inputWidgets": {},
     "nuid": "2c099f4f-841d-4ca9-98d3-4e551eab06ef",
     "showTitle": false,
     "title": ""
    }
   },
   "outputs": [
    {
     "output_type": "stream",
     "name": "stdout",
     "output_type": "stream",
     "text": [
      "+---+------+----------+-----+\n| id|  name|      date| time|\n+---+------+----------+-----+\n|  1|manish|11-07-2023|10:20|\n|  1|manish|11-07-2023|11:20|\n|  2|rajesh|11-07-2023|11:20|\n|  1|manish|11-07-2023|11:50|\n|  2|rajesh|11-07-2023|13:20|\n|  1|manish|11-07-2023|19:20|\n|  2|rajesh|11-07-2023|17:20|\n|  1|manish|12-07-2023|10:32|\n|  1|manish|12-07-2023|12:20|\n|  3|vikash|12-07-2023|09:12|\n|  1|manish|12-07-2023|16:23|\n|  3|vikash|12-07-2023|18:08|\n+---+------+----------+-----+\n\n"
     ]
    }
   ],
   "source": [
    "emp_data = [(1,\"manish\",\"11-07-2023\",\"10:20\"),\n",
    "        (1,\"manish\",\"11-07-2023\",\"11:20\"),\n",
    "        (2,\"rajesh\",\"11-07-2023\",\"11:20\"),\n",
    "        (1,\"manish\",\"11-07-2023\",\"11:50\"),\n",
    "        (2,\"rajesh\",\"11-07-2023\",\"13:20\"),\n",
    "        (1,\"manish\",\"11-07-2023\",\"19:20\"),\n",
    "        (2,\"rajesh\",\"11-07-2023\",\"17:20\"),\n",
    "        (1,\"manish\",\"12-07-2023\",\"10:32\"),\n",
    "        (1,\"manish\",\"12-07-2023\",\"12:20\"),\n",
    "        (3,\"vikash\",\"12-07-2023\",\"09:12\"),\n",
    "        (1,\"manish\",\"12-07-2023\",\"16:23\"),\n",
    "        (3,\"vikash\",\"12-07-2023\",\"18:08\")]\n",
    "\n",
    "emp_schema = [\"id\", \"name\", \"date\", \"time\"]\n",
    "emp_df = spark.createDataFrame(data=emp_data, schema=emp_schema)\n",
    "\n",
    "emp_df.show()"
   ]
  },
  {
   "cell_type": "code",
   "execution_count": 0,
   "metadata": {
    "application/vnd.databricks.v1+cell": {
     "cellMetadata": {
      "byteLimit": 2048000,
      "rowLimit": 10000
     },
     "inputWidgets": {},
     "nuid": "7592cb03-e1ec-4ce4-8df7-6d2ce660aaad",
     "showTitle": false,
     "title": ""
    }
   },
   "outputs": [],
   "source": [
    "# Find emp who have not completed 8 hrs in office\n",
    "\n",
    "emp_df = emp_df.withColumn(\"login\",from_unixtime(unix_timestamp(concat(col(\"date\"),lit(\" \"),col(\"time\")),\"dd-MM-yyyy HH:mm\")))\n",
    "win1 = Window.partitionBy(col(\"id\"),col(\"date\")).orderBy(\"login\").rowsBetween(Window.unboundedPreceding,Window.unboundedFollowing)      "
   ]
  },
  {
   "cell_type": "code",
   "execution_count": 0,
   "metadata": {
    "application/vnd.databricks.v1+cell": {
     "cellMetadata": {
      "byteLimit": 2048000,
      "rowLimit": 10000
     },
     "inputWidgets": {},
     "nuid": "c58110f1-ff9d-4ff0-b2b4-318c723fd0b6",
     "showTitle": false,
     "title": ""
    }
   },
   "outputs": [
    {
     "output_type": "stream",
     "name": "stdout",
     "output_type": "stream",
     "text": [
      "+---+------+----------+-----+-------------------+-------------------+-------------------+-----------+-----------+\n| id|  name|      date| time|              login|             flogin|             llogin|diff in sec|diff in hrs|\n+---+------+----------+-----+-------------------+-------------------+-------------------+-----------+-----------+\n|  1|manish|12-07-2023|10:32|2023-07-12 10:32:00|2023-07-12 10:32:00|2023-07-12 16:23:00|      21060|        6.0|\n|  1|manish|12-07-2023|12:20|2023-07-12 12:20:00|2023-07-12 10:32:00|2023-07-12 16:23:00|      21060|        6.0|\n|  1|manish|12-07-2023|16:23|2023-07-12 16:23:00|2023-07-12 10:32:00|2023-07-12 16:23:00|      21060|        6.0|\n|  2|rajesh|11-07-2023|11:20|2023-07-11 11:20:00|2023-07-11 11:20:00|2023-07-11 17:20:00|      21600|        6.0|\n|  2|rajesh|11-07-2023|13:20|2023-07-11 13:20:00|2023-07-11 11:20:00|2023-07-11 17:20:00|      21600|        6.0|\n|  2|rajesh|11-07-2023|17:20|2023-07-11 17:20:00|2023-07-11 11:20:00|2023-07-11 17:20:00|      21600|        6.0|\n+---+------+----------+-----+-------------------+-------------------+-------------------+-----------+-----------+\n\n"
     ]
    }
   ],
   "source": [
    "emp_df.withColumn(\"flogin\",to_timestamp(first(\"login\").over(win1))) \\\n",
    "        .withColumn(\"llogin\",to_timestamp(last(\"login\").over(win1)))\\\n",
    "        .withColumn(\"diff in sec\",col(\"llogin\").cast(\"long\") - col(\"flogin\").cast(\"long\")) \\\n",
    "        .withColumn(\"diff in hrs\",round(col(\"diff in sec\")/3600))\\\n",
    "        .filter(col(\"diff in hrs\") <8 ) \\\n",
    "        .show()"
   ]
  },
  {
   "cell_type": "code",
   "execution_count": 0,
   "metadata": {
    "application/vnd.databricks.v1+cell": {
     "cellMetadata": {
      "byteLimit": 2048000,
      "rowLimit": 10000
     },
     "inputWidgets": {},
     "nuid": "77d8ead1-caf2-4eba-83fc-2e909d94bd69",
     "showTitle": false,
     "title": ""
    }
   },
   "outputs": [
    {
     "output_type": "stream",
     "name": "stdout",
     "output_type": "stream",
     "text": [
      "+----------+------------+----------+-------+------------------+\n|product_id|product_name|sales_date|  sales|       Avg_sales_3|\n+----------+------------+----------+-------+------------------+\n|         1|      iphone|01-01-2006|  15000|           15000.0|\n|         1|      iphone|01-02-2023|1300000|          657500.0|\n|         1|      iphone|01-03-2023|1600000| 971666.6666666666|\n|         1|      iphone|01-04-2023|1700000|1533333.3333333333|\n|         1|      iphone|01-05-2023|1200000|         1500000.0|\n|         1|      iphone|01-06-2023|1100000|1333333.3333333333|\n|         2|     samsung|01-01-1995|  11000|           11000.0|\n|         2|     samsung|01-02-2023|1120000|          565500.0|\n|         2|     samsung|01-03-2023|1080000|          737000.0|\n|         2|     samsung|01-04-2023|1800000|1333333.3333333333|\n|         2|     samsung|01-05-2023| 980000|1286666.6666666667|\n|         2|     samsung|01-06-2023|1100000|1293333.3333333333|\n|         3|     oneplus|01-01-2010|  23000|           23000.0|\n|         3|     oneplus|01-02-2023|1120000|          571500.0|\n|         3|     oneplus|01-03-2023|1160000| 767666.6666666666|\n|         3|     oneplus|01-04-2023|1170000|         1150000.0|\n|         3|     oneplus|01-05-2023|1175000|1168333.3333333333|\n|         3|     oneplus|01-06-2023|1200000|1181666.6666666667|\n+----------+------------+----------+-------+------------------+\n\n"
     ]
    }
   ],
   "source": [
    "# Find the performance of the sales in the last 3 months average. \n",
    "win = Window.partitionBy(col(\"product_id\")).orderBy(col(\"sales_date\")).rowsBetween(-2,0)\n",
    "product_df.withColumn(\"Avg_sales_3\", avg(\"sales\").over(win)).show()"
   ]
  }
 ],
 "metadata": {
  "application/vnd.databricks.v1+notebook": {
   "dashboards": [],
   "language": "python",
   "notebookMetadata": {
    "mostRecentlyExecutedCommandWithImplicitDF": {
     "commandId": -1,
     "dataframes": [
      "_sqldf"
     ]
    },
    "pythonIndentUnit": 4
   },
   "notebookName": "DataFrame API",
   "widgets": {}
  }
 },
 "nbformat": 4,
 "nbformat_minor": 0
}
